{
 "cells": [
  {
   "cell_type": "markdown",
   "metadata": {},
   "source": [
    "### The data set has information about features of silhouette extracted from the images of different cars\n",
    "\n",
    "Four \"Corgie\" model vehicles were used for the experiment: a double decker bus, Cheverolet van, Saab 9000 and an Opel Manta 400 cars. This particular combination of vehicles was chosen with the expectation that the bus, van and either one of the cars would be readily distinguishable, but it would be more difficult to distinguish between the cars.\n",
    "\n"
   ]
  },
  {
   "cell_type": "code",
   "execution_count": 97,
   "metadata": {},
   "outputs": [],
   "source": [
    "import numpy as np\n",
    "import pandas as pd\n",
    "from matplotlib import pyplot as plt\n",
    "import seaborn as sns\n",
    "from    scipy.stats             import  ttest_1samp,ttest_ind, wilcoxon, ttest_ind_from_stats\n",
    "import  scipy.stats             as      stats  \n",
    "from    statsmodels.stats.power import  ttest_power\n",
    "import  matplotlib.pyplot       as      plt\n",
    "from sklearn.cluster import KMeans"
   ]
  },
  {
   "cell_type": "markdown",
   "metadata": {},
   "source": [
    "### 1. Read the dataset using function .dropna() - to avoid dealing with NAs as of now"
   ]
  },
  {
   "cell_type": "code",
   "execution_count": 98,
   "metadata": {},
   "outputs": [
    {
     "data": {
      "text/html": [
       "<div>\n",
       "<style scoped>\n",
       "    .dataframe tbody tr th:only-of-type {\n",
       "        vertical-align: middle;\n",
       "    }\n",
       "\n",
       "    .dataframe tbody tr th {\n",
       "        vertical-align: top;\n",
       "    }\n",
       "\n",
       "    .dataframe thead th {\n",
       "        text-align: right;\n",
       "    }\n",
       "</style>\n",
       "<table border=\"1\" class=\"dataframe\">\n",
       "  <thead>\n",
       "    <tr style=\"text-align: right;\">\n",
       "      <th></th>\n",
       "      <th>compactness</th>\n",
       "      <th>circularity</th>\n",
       "      <th>distance_circularity</th>\n",
       "      <th>radius_ratio</th>\n",
       "      <th>pr.axis_aspect_ratio</th>\n",
       "      <th>max.length_aspect_ratio</th>\n",
       "      <th>scatter_ratio</th>\n",
       "      <th>elongatedness</th>\n",
       "      <th>pr.axis_rectangularity</th>\n",
       "      <th>max.length_rectangularity</th>\n",
       "      <th>scaled_variance</th>\n",
       "      <th>scaled_variance.1</th>\n",
       "      <th>scaled_radius_of_gyration</th>\n",
       "      <th>scaled_radius_of_gyration.1</th>\n",
       "      <th>skewness_about</th>\n",
       "      <th>skewness_about.1</th>\n",
       "      <th>skewness_about.2</th>\n",
       "      <th>hollows_ratio</th>\n",
       "      <th>class</th>\n",
       "    </tr>\n",
       "  </thead>\n",
       "  <tbody>\n",
       "    <tr>\n",
       "      <th>0</th>\n",
       "      <td>95</td>\n",
       "      <td>48.0</td>\n",
       "      <td>83.0</td>\n",
       "      <td>178.0</td>\n",
       "      <td>72.0</td>\n",
       "      <td>10</td>\n",
       "      <td>162.0</td>\n",
       "      <td>42.0</td>\n",
       "      <td>20.0</td>\n",
       "      <td>159</td>\n",
       "      <td>176.0</td>\n",
       "      <td>379.0</td>\n",
       "      <td>184.0</td>\n",
       "      <td>70.0</td>\n",
       "      <td>6.0</td>\n",
       "      <td>16.0</td>\n",
       "      <td>187.0</td>\n",
       "      <td>197</td>\n",
       "      <td>van</td>\n",
       "    </tr>\n",
       "    <tr>\n",
       "      <th>1</th>\n",
       "      <td>91</td>\n",
       "      <td>41.0</td>\n",
       "      <td>84.0</td>\n",
       "      <td>141.0</td>\n",
       "      <td>57.0</td>\n",
       "      <td>9</td>\n",
       "      <td>149.0</td>\n",
       "      <td>45.0</td>\n",
       "      <td>19.0</td>\n",
       "      <td>143</td>\n",
       "      <td>170.0</td>\n",
       "      <td>330.0</td>\n",
       "      <td>158.0</td>\n",
       "      <td>72.0</td>\n",
       "      <td>9.0</td>\n",
       "      <td>14.0</td>\n",
       "      <td>189.0</td>\n",
       "      <td>199</td>\n",
       "      <td>van</td>\n",
       "    </tr>\n",
       "    <tr>\n",
       "      <th>2</th>\n",
       "      <td>104</td>\n",
       "      <td>50.0</td>\n",
       "      <td>106.0</td>\n",
       "      <td>209.0</td>\n",
       "      <td>66.0</td>\n",
       "      <td>10</td>\n",
       "      <td>207.0</td>\n",
       "      <td>32.0</td>\n",
       "      <td>23.0</td>\n",
       "      <td>158</td>\n",
       "      <td>223.0</td>\n",
       "      <td>635.0</td>\n",
       "      <td>220.0</td>\n",
       "      <td>73.0</td>\n",
       "      <td>14.0</td>\n",
       "      <td>9.0</td>\n",
       "      <td>188.0</td>\n",
       "      <td>196</td>\n",
       "      <td>car</td>\n",
       "    </tr>\n",
       "    <tr>\n",
       "      <th>3</th>\n",
       "      <td>93</td>\n",
       "      <td>41.0</td>\n",
       "      <td>82.0</td>\n",
       "      <td>159.0</td>\n",
       "      <td>63.0</td>\n",
       "      <td>9</td>\n",
       "      <td>144.0</td>\n",
       "      <td>46.0</td>\n",
       "      <td>19.0</td>\n",
       "      <td>143</td>\n",
       "      <td>160.0</td>\n",
       "      <td>309.0</td>\n",
       "      <td>127.0</td>\n",
       "      <td>63.0</td>\n",
       "      <td>6.0</td>\n",
       "      <td>10.0</td>\n",
       "      <td>199.0</td>\n",
       "      <td>207</td>\n",
       "      <td>van</td>\n",
       "    </tr>\n",
       "    <tr>\n",
       "      <th>4</th>\n",
       "      <td>85</td>\n",
       "      <td>44.0</td>\n",
       "      <td>70.0</td>\n",
       "      <td>205.0</td>\n",
       "      <td>103.0</td>\n",
       "      <td>52</td>\n",
       "      <td>149.0</td>\n",
       "      <td>45.0</td>\n",
       "      <td>19.0</td>\n",
       "      <td>144</td>\n",
       "      <td>241.0</td>\n",
       "      <td>325.0</td>\n",
       "      <td>188.0</td>\n",
       "      <td>127.0</td>\n",
       "      <td>9.0</td>\n",
       "      <td>11.0</td>\n",
       "      <td>180.0</td>\n",
       "      <td>183</td>\n",
       "      <td>bus</td>\n",
       "    </tr>\n",
       "  </tbody>\n",
       "</table>\n",
       "</div>"
      ],
      "text/plain": [
       "   compactness  circularity  distance_circularity  radius_ratio  \\\n",
       "0           95         48.0                  83.0         178.0   \n",
       "1           91         41.0                  84.0         141.0   \n",
       "2          104         50.0                 106.0         209.0   \n",
       "3           93         41.0                  82.0         159.0   \n",
       "4           85         44.0                  70.0         205.0   \n",
       "\n",
       "   pr.axis_aspect_ratio  max.length_aspect_ratio  scatter_ratio  \\\n",
       "0                  72.0                       10          162.0   \n",
       "1                  57.0                        9          149.0   \n",
       "2                  66.0                       10          207.0   \n",
       "3                  63.0                        9          144.0   \n",
       "4                 103.0                       52          149.0   \n",
       "\n",
       "   elongatedness  pr.axis_rectangularity  max.length_rectangularity  \\\n",
       "0           42.0                    20.0                        159   \n",
       "1           45.0                    19.0                        143   \n",
       "2           32.0                    23.0                        158   \n",
       "3           46.0                    19.0                        143   \n",
       "4           45.0                    19.0                        144   \n",
       "\n",
       "   scaled_variance  scaled_variance.1  scaled_radius_of_gyration  \\\n",
       "0            176.0              379.0                      184.0   \n",
       "1            170.0              330.0                      158.0   \n",
       "2            223.0              635.0                      220.0   \n",
       "3            160.0              309.0                      127.0   \n",
       "4            241.0              325.0                      188.0   \n",
       "\n",
       "   scaled_radius_of_gyration.1  skewness_about  skewness_about.1  \\\n",
       "0                         70.0             6.0              16.0   \n",
       "1                         72.0             9.0              14.0   \n",
       "2                         73.0            14.0               9.0   \n",
       "3                         63.0             6.0              10.0   \n",
       "4                        127.0             9.0              11.0   \n",
       "\n",
       "   skewness_about.2  hollows_ratio class  \n",
       "0             187.0            197   van  \n",
       "1             189.0            199   van  \n",
       "2             188.0            196   car  \n",
       "3             199.0            207   van  \n",
       "4             180.0            183   bus  "
      ]
     },
     "execution_count": 98,
     "metadata": {},
     "output_type": "execute_result"
    }
   ],
   "source": [
    "data = pd.read_csv('vehicle.csv').dropna()\n",
    "data.head()"
   ]
  },
  {
   "cell_type": "code",
   "execution_count": null,
   "metadata": {},
   "outputs": [],
   "source": []
  },
  {
   "cell_type": "code",
   "execution_count": null,
   "metadata": {},
   "outputs": [],
   "source": []
  },
  {
   "cell_type": "markdown",
   "metadata": {},
   "source": [
    "### 2. Print/ Plot the dependent (categorical variable) - Class column"
   ]
  },
  {
   "cell_type": "markdown",
   "metadata": {},
   "source": [
    "Since the variable is categorical, you can use value_counts function"
   ]
  },
  {
   "cell_type": "code",
   "execution_count": 99,
   "metadata": {},
   "outputs": [
    {
     "data": {
      "text/plain": [
       "<matplotlib.axes._subplots.AxesSubplot at 0x2230905e898>"
      ]
     },
     "execution_count": 99,
     "metadata": {},
     "output_type": "execute_result"
    },
    {
     "data": {
      "image/png": "[encoded data removed]",
      "text/plain": [
       "<Figure size 432x288 with 1 Axes>"
      ]
     },
     "metadata": {
      "needs_background": "light"
     },
     "output_type": "display_data"
    }
   ],
   "source": [
    "sns.countplot(x = 'class',data = data)"
   ]
  },
  {
   "cell_type": "markdown",
   "metadata": {},
   "source": [
    "### Check for any missing values in the data "
   ]
  },
  {
   "cell_type": "code",
   "execution_count": 100,
   "metadata": {},
   "outputs": [
    {
     "data": {
      "text/plain": [
       "compactness                    0\n",
       "circularity                    0\n",
       "distance_circularity           0\n",
       "radius_ratio                   0\n",
       "pr.axis_aspect_ratio           0\n",
       "max.length_aspect_ratio        0\n",
       "scatter_ratio                  0\n",
       "elongatedness                  0\n",
       "pr.axis_rectangularity         0\n",
       "max.length_rectangularity      0\n",
       "scaled_variance                0\n",
       "scaled_variance.1              0\n",
       "scaled_radius_of_gyration      0\n",
       "scaled_radius_of_gyration.1    0\n",
       "skewness_about                 0\n",
       "skewness_about.1               0\n",
       "skewness_about.2               0\n",
       "hollows_ratio                  0\n",
       "class                          0\n",
       "dtype: int64"
      ]
     },
     "execution_count": 100,
     "metadata": {},
     "output_type": "execute_result"
    }
   ],
   "source": [
    "data.isna().sum()"
   ]
  },
  {
   "cell_type": "markdown",
   "metadata": {},
   "source": [
    "### 3. Standardize the data "
   ]
  },
  {
   "cell_type": "code",
   "execution_count": 101,
   "metadata": {},
   "outputs": [
    {
     "data": {
      "text/html": [
       "<div>\n",
       "<style scoped>\n",
       "    .dataframe tbody tr th:only-of-type {\n",
       "        vertical-align: middle;\n",
       "    }\n",
       "\n",
       "    .dataframe tbody tr th {\n",
       "        vertical-align: top;\n",
       "    }\n",
       "\n",
       "    .dataframe thead th {\n",
       "        text-align: right;\n",
       "    }\n",
       "</style>\n",
       "<table border=\"1\" class=\"dataframe\">\n",
       "  <thead>\n",
       "    <tr style=\"text-align: right;\">\n",
       "      <th></th>\n",
       "      <th>compactness</th>\n",
       "      <th>circularity</th>\n",
       "      <th>distance_circularity</th>\n",
       "      <th>radius_ratio</th>\n",
       "      <th>pr.axis_aspect_ratio</th>\n",
       "      <th>max.length_aspect_ratio</th>\n",
       "      <th>scatter_ratio</th>\n",
       "      <th>elongatedness</th>\n",
       "      <th>pr.axis_rectangularity</th>\n",
       "      <th>max.length_rectangularity</th>\n",
       "      <th>scaled_variance</th>\n",
       "      <th>scaled_variance.1</th>\n",
       "      <th>scaled_radius_of_gyration</th>\n",
       "      <th>scaled_radius_of_gyration.1</th>\n",
       "      <th>skewness_about</th>\n",
       "      <th>skewness_about.1</th>\n",
       "      <th>skewness_about.2</th>\n",
       "      <th>hollows_ratio</th>\n",
       "    </tr>\n",
       "  </thead>\n",
       "  <tbody>\n",
       "    <tr>\n",
       "      <th>0</th>\n",
       "      <td>0.163231</td>\n",
       "      <td>0.520408</td>\n",
       "      <td>0.060669</td>\n",
       "      <td>0.264970</td>\n",
       "      <td>1.283254</td>\n",
       "      <td>0.299721</td>\n",
       "      <td>-0.198517</td>\n",
       "      <td>0.129648</td>\n",
       "      <td>-0.217151</td>\n",
       "      <td>0.766312</td>\n",
       "      <td>-0.397397</td>\n",
       "      <td>-0.339014</td>\n",
       "      <td>0.301676</td>\n",
       "      <td>-0.321192</td>\n",
       "      <td>-0.071523</td>\n",
       "      <td>0.371287</td>\n",
       "      <td>-0.321809</td>\n",
       "      <td>0.171837</td>\n",
       "    </tr>\n",
       "    <tr>\n",
       "      <th>1</th>\n",
       "      <td>-0.322874</td>\n",
       "      <td>-0.619123</td>\n",
       "      <td>0.124067</td>\n",
       "      <td>-0.836393</td>\n",
       "      <td>-0.599253</td>\n",
       "      <td>0.085785</td>\n",
       "      <td>-0.591720</td>\n",
       "      <td>0.514333</td>\n",
       "      <td>-0.606014</td>\n",
       "      <td>-0.337462</td>\n",
       "      <td>-0.590034</td>\n",
       "      <td>-0.618754</td>\n",
       "      <td>-0.502972</td>\n",
       "      <td>-0.053505</td>\n",
       "      <td>0.538425</td>\n",
       "      <td>0.147109</td>\n",
       "      <td>0.003400</td>\n",
       "      <td>0.442318</td>\n",
       "    </tr>\n",
       "    <tr>\n",
       "      <th>2</th>\n",
       "      <td>1.256966</td>\n",
       "      <td>0.845988</td>\n",
       "      <td>1.518823</td>\n",
       "      <td>1.187734</td>\n",
       "      <td>0.530251</td>\n",
       "      <td>0.299721</td>\n",
       "      <td>1.162569</td>\n",
       "      <td>-1.152637</td>\n",
       "      <td>0.949438</td>\n",
       "      <td>0.697326</td>\n",
       "      <td>1.111591</td>\n",
       "      <td>1.122486</td>\n",
       "      <td>1.415804</td>\n",
       "      <td>0.080339</td>\n",
       "      <td>1.555006</td>\n",
       "      <td>-0.413338</td>\n",
       "      <td>-0.159204</td>\n",
       "      <td>0.036596</td>\n",
       "    </tr>\n",
       "    <tr>\n",
       "      <th>3</th>\n",
       "      <td>-0.079822</td>\n",
       "      <td>-0.619123</td>\n",
       "      <td>-0.002729</td>\n",
       "      <td>-0.300595</td>\n",
       "      <td>0.153750</td>\n",
       "      <td>0.085785</td>\n",
       "      <td>-0.742952</td>\n",
       "      <td>0.642562</td>\n",
       "      <td>-0.606014</td>\n",
       "      <td>-0.337462</td>\n",
       "      <td>-0.911095</td>\n",
       "      <td>-0.738643</td>\n",
       "      <td>-1.462359</td>\n",
       "      <td>-1.258099</td>\n",
       "      <td>-0.071523</td>\n",
       "      <td>-0.301249</td>\n",
       "      <td>1.629444</td>\n",
       "      <td>1.524243</td>\n",
       "    </tr>\n",
       "    <tr>\n",
       "      <th>4</th>\n",
       "      <td>-1.052030</td>\n",
       "      <td>-0.130753</td>\n",
       "      <td>-0.763506</td>\n",
       "      <td>1.068668</td>\n",
       "      <td>5.173770</td>\n",
       "      <td>9.285029</td>\n",
       "      <td>-0.591720</td>\n",
       "      <td>0.514333</td>\n",
       "      <td>-0.606014</td>\n",
       "      <td>-0.268476</td>\n",
       "      <td>1.689501</td>\n",
       "      <td>-0.647299</td>\n",
       "      <td>0.425468</td>\n",
       "      <td>7.307905</td>\n",
       "      <td>0.538425</td>\n",
       "      <td>-0.189159</td>\n",
       "      <td>-1.460039</td>\n",
       "      <td>-1.721531</td>\n",
       "    </tr>\n",
       "  </tbody>\n",
       "</table>\n",
       "</div>"
      ],
      "text/plain": [
       "   compactness  circularity  distance_circularity  radius_ratio  \\\n",
       "0     0.163231     0.520408              0.060669      0.264970   \n",
       "1    -0.322874    -0.619123              0.124067     -0.836393   \n",
       "2     1.256966     0.845988              1.518823      1.187734   \n",
       "3    -0.079822    -0.619123             -0.002729     -0.300595   \n",
       "4    -1.052030    -0.130753             -0.763506      1.068668   \n",
       "\n",
       "   pr.axis_aspect_ratio  max.length_aspect_ratio  scatter_ratio  \\\n",
       "0              1.283254                 0.299721      -0.198517   \n",
       "1             -0.599253                 0.085785      -0.591720   \n",
       "2              0.530251                 0.299721       1.162569   \n",
       "3              0.153750                 0.085785      -0.742952   \n",
       "4              5.173770                 9.285029      -0.591720   \n",
       "\n",
       "   elongatedness  pr.axis_rectangularity  max.length_rectangularity  \\\n",
       "0       0.129648               -0.217151                   0.766312   \n",
       "1       0.514333               -0.606014                  -0.337462   \n",
       "2      -1.152637                0.949438                   0.697326   \n",
       "3       0.642562               -0.606014                  -0.337462   \n",
       "4       0.514333               -0.606014                  -0.268476   \n",
       "\n",
       "   scaled_variance  scaled_variance.1  scaled_radius_of_gyration  \\\n",
       "0        -0.397397          -0.339014                   0.301676   \n",
       "1        -0.590034          -0.618754                  -0.502972   \n",
       "2         1.111591           1.122486                   1.415804   \n",
       "3        -0.911095          -0.738643                  -1.462359   \n",
       "4         1.689501          -0.647299                   0.425468   \n",
       "\n",
       "   scaled_radius_of_gyration.1  skewness_about  skewness_about.1  \\\n",
       "0                    -0.321192       -0.071523          0.371287   \n",
       "1                    -0.053505        0.538425          0.147109   \n",
       "2                     0.080339        1.555006         -0.413338   \n",
       "3                    -1.258099       -0.071523         -0.301249   \n",
       "4                     7.307905        0.538425         -0.189159   \n",
       "\n",
       "   skewness_about.2  hollows_ratio  \n",
       "0         -0.321809       0.171837  \n",
       "1          0.003400       0.442318  \n",
       "2         -0.159204       0.036596  \n",
       "3          1.629444       1.524243  \n",
       "4         -1.460039      -1.721531  "
      ]
     },
     "execution_count": 101,
     "metadata": {},
     "output_type": "execute_result"
    }
   ],
   "source": [
    "from scipy.stats import zscore\n",
    "df = data.drop(labels = 'class',axis = 1)\n",
    "df = df.apply(zscore)\n",
    "df.head()"
   ]
  },
  {
   "cell_type": "markdown",
   "metadata": {},
   "source": [
    "Since the dimensions of the data are not really known to us, it would be wise to standardize the data using z scores before we go for any clustering methods.\n",
    "You can use zscore function to do this"
   ]
  },
  {
   "cell_type": "code",
   "execution_count": null,
   "metadata": {},
   "outputs": [],
   "source": []
  },
  {
   "cell_type": "code",
   "execution_count": null,
   "metadata": {},
   "outputs": [],
   "source": []
  },
  {
   "cell_type": "markdown",
   "metadata": {},
   "source": [
    "### K - Means Clustering"
   ]
  },
  {
   "cell_type": "markdown",
   "metadata": {},
   "source": [
    "### 4. Assign a dummy array called distortion"
   ]
  },
  {
   "cell_type": "code",
   "execution_count": 102,
   "metadata": {},
   "outputs": [
    {
     "data": {
      "text/plain": [
       "{}"
      ]
     },
     "execution_count": 102,
     "metadata": {},
     "output_type": "execute_result"
    }
   ],
   "source": [
    "distortion = {}\n",
    "distortion"
   ]
  },
  {
   "cell_type": "markdown",
   "metadata": {},
   "source": [
    "You can later use this array to plot the elbow plot"
   ]
  },
  {
   "cell_type": "code",
   "execution_count": null,
   "metadata": {},
   "outputs": [],
   "source": []
  },
  {
   "cell_type": "markdown",
   "metadata": {},
   "source": [
    "### 5. Calculating distortion - C distance"
   ]
  },
  {
   "cell_type": "code",
   "execution_count": 103,
   "metadata": {
    "scrolled": true
   },
   "outputs": [
    {
     "name": "stdout",
     "output_type": "stream",
     "text": [
      "14634.0\n",
      "8623.13697598644\n",
      "7037.467394618071\n",
      "5740.480402164354\n",
      "5189.588855039965\n",
      "4705.949959463537\n",
      "4355.019229120686\n",
      "4102.950906661565\n",
      "3867.4847389752\n",
      "3652.2073699580105\n"
     ]
    }
   ],
   "source": [
    "from sklearn.cluster import KMeans\n",
    "for k in range(1,11):\n",
    "    kMeans = KMeans(n_clusters = k)\n",
    "    kMeans.fit(df)\n",
    "    distortion[k] = kMeans.inertia_\n",
    "    print(distortion[k])"
   ]
  },
  {
   "cell_type": "markdown",
   "metadata": {},
   "source": [
    "Iterating values of k from 1 to 10 fit K means model\n",
    "Using c distance - Get the measure for Sum of squares error."
   ]
  },
  {
   "cell_type": "code",
   "execution_count": null,
   "metadata": {},
   "outputs": [],
   "source": []
  },
  {
   "cell_type": "code",
   "execution_count": null,
   "metadata": {},
   "outputs": [],
   "source": []
  },
  {
   "cell_type": "markdown",
   "metadata": {},
   "source": [
    "### 6. Plotting Elbow/ Scree Plot"
   ]
  },
  {
   "cell_type": "code",
   "execution_count": 104,
   "metadata": {},
   "outputs": [
    {
     "data": {
      "image/png": "[encoded data removed]",
      "text/plain": [
       "<Figure size 432x288 with 1 Axes>"
      ]
     },
     "metadata": {
      "needs_background": "light"
     },
     "output_type": "display_data"
    }
   ],
   "source": [
    "sns.lineplot(x = list(distortion.keys()), y = list(distortion.values()))\n",
    "plt.xlabel('Number of Clusters')\n",
    "plt.ylabel('Distortion')\n",
    "plt.show()"
   ]
  },
  {
   "cell_type": "markdown",
   "metadata": {},
   "source": [
    "Use Matplotlib to plot the scree plot - Note: Scree plot plots distortion vs the no of clusters"
   ]
  },
  {
   "cell_type": "code",
   "execution_count": null,
   "metadata": {},
   "outputs": [],
   "source": []
  },
  {
   "cell_type": "markdown",
   "metadata": {},
   "source": [
    "### Find out the optimal value of K"
   ]
  },
  {
   "cell_type": "code",
   "execution_count": 139,
   "metadata": {},
   "outputs": [
    {
     "data": {
      "text/html": [
       "<div>\n",
       "<style scoped>\n",
       "    .dataframe tbody tr th:only-of-type {\n",
       "        vertical-align: middle;\n",
       "    }\n",
       "\n",
       "    .dataframe tbody tr th {\n",
       "        vertical-align: top;\n",
       "    }\n",
       "\n",
       "    .dataframe thead th {\n",
       "        text-align: right;\n",
       "    }\n",
       "</style>\n",
       "<table border=\"1\" class=\"dataframe\">\n",
       "  <thead>\n",
       "    <tr style=\"text-align: right;\">\n",
       "      <th></th>\n",
       "      <th>compactness</th>\n",
       "      <th>circularity</th>\n",
       "      <th>distance_circularity</th>\n",
       "      <th>radius_ratio</th>\n",
       "      <th>pr.axis_aspect_ratio</th>\n",
       "      <th>max.length_aspect_ratio</th>\n",
       "      <th>scatter_ratio</th>\n",
       "      <th>elongatedness</th>\n",
       "      <th>pr.axis_rectangularity</th>\n",
       "      <th>max.length_rectangularity</th>\n",
       "      <th>scaled_variance</th>\n",
       "      <th>scaled_variance.1</th>\n",
       "      <th>scaled_radius_of_gyration</th>\n",
       "      <th>scaled_radius_of_gyration.1</th>\n",
       "      <th>skewness_about</th>\n",
       "      <th>skewness_about.1</th>\n",
       "      <th>skewness_about.2</th>\n",
       "      <th>hollows_ratio</th>\n",
       "    </tr>\n",
       "  </thead>\n",
       "  <tbody>\n",
       "    <tr>\n",
       "      <th>0</th>\n",
       "      <td>0.163231</td>\n",
       "      <td>0.520408</td>\n",
       "      <td>0.060669</td>\n",
       "      <td>0.264970</td>\n",
       "      <td>1.283254</td>\n",
       "      <td>0.299721</td>\n",
       "      <td>-0.198517</td>\n",
       "      <td>0.129648</td>\n",
       "      <td>-0.217151</td>\n",
       "      <td>0.766312</td>\n",
       "      <td>-0.397397</td>\n",
       "      <td>-0.339014</td>\n",
       "      <td>0.301676</td>\n",
       "      <td>-0.321192</td>\n",
       "      <td>-0.071523</td>\n",
       "      <td>0.371287</td>\n",
       "      <td>-0.321809</td>\n",
       "      <td>0.171837</td>\n",
       "    </tr>\n",
       "    <tr>\n",
       "      <th>1</th>\n",
       "      <td>-0.322874</td>\n",
       "      <td>-0.619123</td>\n",
       "      <td>0.124067</td>\n",
       "      <td>-0.836393</td>\n",
       "      <td>-0.599253</td>\n",
       "      <td>0.085785</td>\n",
       "      <td>-0.591720</td>\n",
       "      <td>0.514333</td>\n",
       "      <td>-0.606014</td>\n",
       "      <td>-0.337462</td>\n",
       "      <td>-0.590034</td>\n",
       "      <td>-0.618754</td>\n",
       "      <td>-0.502972</td>\n",
       "      <td>-0.053505</td>\n",
       "      <td>0.538425</td>\n",
       "      <td>0.147109</td>\n",
       "      <td>0.003400</td>\n",
       "      <td>0.442318</td>\n",
       "    </tr>\n",
       "    <tr>\n",
       "      <th>2</th>\n",
       "      <td>1.256966</td>\n",
       "      <td>0.845988</td>\n",
       "      <td>1.518823</td>\n",
       "      <td>1.187734</td>\n",
       "      <td>0.530251</td>\n",
       "      <td>0.299721</td>\n",
       "      <td>1.162569</td>\n",
       "      <td>-1.152637</td>\n",
       "      <td>0.949438</td>\n",
       "      <td>0.697326</td>\n",
       "      <td>1.111591</td>\n",
       "      <td>1.122486</td>\n",
       "      <td>1.415804</td>\n",
       "      <td>0.080339</td>\n",
       "      <td>1.555006</td>\n",
       "      <td>-0.413338</td>\n",
       "      <td>-0.159204</td>\n",
       "      <td>0.036596</td>\n",
       "    </tr>\n",
       "    <tr>\n",
       "      <th>3</th>\n",
       "      <td>-0.079822</td>\n",
       "      <td>-0.619123</td>\n",
       "      <td>-0.002729</td>\n",
       "      <td>-0.300595</td>\n",
       "      <td>0.153750</td>\n",
       "      <td>0.085785</td>\n",
       "      <td>-0.742952</td>\n",
       "      <td>0.642562</td>\n",
       "      <td>-0.606014</td>\n",
       "      <td>-0.337462</td>\n",
       "      <td>-0.911095</td>\n",
       "      <td>-0.738643</td>\n",
       "      <td>-1.462359</td>\n",
       "      <td>-1.258099</td>\n",
       "      <td>-0.071523</td>\n",
       "      <td>-0.301249</td>\n",
       "      <td>1.629444</td>\n",
       "      <td>1.524243</td>\n",
       "    </tr>\n",
       "    <tr>\n",
       "      <th>4</th>\n",
       "      <td>-1.052030</td>\n",
       "      <td>-0.130753</td>\n",
       "      <td>-0.763506</td>\n",
       "      <td>1.068668</td>\n",
       "      <td>5.173770</td>\n",
       "      <td>9.285029</td>\n",
       "      <td>-0.591720</td>\n",
       "      <td>0.514333</td>\n",
       "      <td>-0.606014</td>\n",
       "      <td>-0.268476</td>\n",
       "      <td>1.689501</td>\n",
       "      <td>-0.647299</td>\n",
       "      <td>0.425468</td>\n",
       "      <td>7.307905</td>\n",
       "      <td>0.538425</td>\n",
       "      <td>-0.189159</td>\n",
       "      <td>-1.460039</td>\n",
       "      <td>-1.721531</td>\n",
       "    </tr>\n",
       "  </tbody>\n",
       "</table>\n",
       "</div>"
      ],
      "text/plain": [
       "   compactness  circularity  distance_circularity  radius_ratio  \\\n",
       "0     0.163231     0.520408              0.060669      0.264970   \n",
       "1    -0.322874    -0.619123              0.124067     -0.836393   \n",
       "2     1.256966     0.845988              1.518823      1.187734   \n",
       "3    -0.079822    -0.619123             -0.002729     -0.300595   \n",
       "4    -1.052030    -0.130753             -0.763506      1.068668   \n",
       "\n",
       "   pr.axis_aspect_ratio  max.length_aspect_ratio  scatter_ratio  \\\n",
       "0              1.283254                 0.299721      -0.198517   \n",
       "1             -0.599253                 0.085785      -0.591720   \n",
       "2              0.530251                 0.299721       1.162569   \n",
       "3              0.153750                 0.085785      -0.742952   \n",
       "4              5.173770                 9.285029      -0.591720   \n",
       "\n",
       "   elongatedness  pr.axis_rectangularity  max.length_rectangularity  \\\n",
       "0       0.129648               -0.217151                   0.766312   \n",
       "1       0.514333               -0.606014                  -0.337462   \n",
       "2      -1.152637                0.949438                   0.697326   \n",
       "3       0.642562               -0.606014                  -0.337462   \n",
       "4       0.514333               -0.606014                  -0.268476   \n",
       "\n",
       "   scaled_variance  scaled_variance.1  scaled_radius_of_gyration  \\\n",
       "0        -0.397397          -0.339014                   0.301676   \n",
       "1        -0.590034          -0.618754                  -0.502972   \n",
       "2         1.111591           1.122486                   1.415804   \n",
       "3        -0.911095          -0.738643                  -1.462359   \n",
       "4         1.689501          -0.647299                   0.425468   \n",
       "\n",
       "   scaled_radius_of_gyration.1  skewness_about  skewness_about.1  \\\n",
       "0                    -0.321192       -0.071523          0.371287   \n",
       "1                    -0.053505        0.538425          0.147109   \n",
       "2                     0.080339        1.555006         -0.413338   \n",
       "3                    -1.258099       -0.071523         -0.301249   \n",
       "4                     7.307905        0.538425         -0.189159   \n",
       "\n",
       "   skewness_about.2  hollows_ratio  \n",
       "0         -0.321809       0.171837  \n",
       "1          0.003400       0.442318  \n",
       "2         -0.159204       0.036596  \n",
       "3          1.629444       1.524243  \n",
       "4         -1.460039      -1.721531  "
      ]
     },
     "execution_count": 139,
     "metadata": {},
     "output_type": "execute_result"
    }
   ],
   "source": [
    "#As per the above graph - k = 4\n",
    "df.head()"
   ]
  },
  {
   "cell_type": "code",
   "execution_count": 144,
   "metadata": {},
   "outputs": [
    {
     "data": {
      "text/plain": [
       "KMeans(algorithm='auto', copy_x=True, init='k-means++', max_iter=300,\n",
       "       n_clusters=4, n_init=10, n_jobs=None, precompute_distances='auto',\n",
       "       random_state=None, tol=0.0001, verbose=0)"
      ]
     },
     "execution_count": 144,
     "metadata": {},
     "output_type": "execute_result"
    }
   ],
   "source": [
    "from sklearn.cluster import KMeans\n",
    "km = KMeans(n_clusters=4)\n",
    "km.fit(df)"
   ]
  },
  {
   "cell_type": "markdown",
   "metadata": {},
   "source": [
    "### Using optimal value of K - Cluster the data. \n",
    "Note: Since the data has more than 2 dimension we cannot visualize the data. As an alternative, we can observe the centroids and note how they are distributed across different dimensions"
   ]
  },
  {
   "cell_type": "code",
   "execution_count": 147,
   "metadata": {},
   "outputs": [],
   "source": [
    "df1 = km.cluster_centers_"
   ]
  },
  {
   "cell_type": "markdown",
   "metadata": {},
   "source": [
    "You can use kmeans.cluster_centers_ function to pull the centroid information from the instance"
   ]
  },
  {
   "cell_type": "code",
   "execution_count": 156,
   "metadata": {},
   "outputs": [
    {
     "data": {
      "text/html": [
       "<div>\n",
       "<style scoped>\n",
       "    .dataframe tbody tr th:only-of-type {\n",
       "        vertical-align: middle;\n",
       "    }\n",
       "\n",
       "    .dataframe tbody tr th {\n",
       "        vertical-align: top;\n",
       "    }\n",
       "\n",
       "    .dataframe thead th {\n",
       "        text-align: right;\n",
       "    }\n",
       "</style>\n",
       "<table border=\"1\" class=\"dataframe\">\n",
       "  <thead>\n",
       "    <tr style=\"text-align: right;\">\n",
       "      <th></th>\n",
       "      <th>compactness</th>\n",
       "      <th>circularity</th>\n",
       "      <th>distance_circularity</th>\n",
       "      <th>radius_ratio</th>\n",
       "      <th>pr.axis_aspect_ratio</th>\n",
       "      <th>max.length_aspect_ratio</th>\n",
       "      <th>scatter_ratio</th>\n",
       "      <th>elongatedness</th>\n",
       "      <th>pr.axis_rectangularity</th>\n",
       "      <th>max.length_rectangularity</th>\n",
       "      <th>scaled_variance</th>\n",
       "      <th>scaled_variance.1</th>\n",
       "      <th>scaled_radius_of_gyration</th>\n",
       "      <th>scaled_radius_of_gyration.1</th>\n",
       "      <th>skewness_about</th>\n",
       "      <th>skewness_about.1</th>\n",
       "      <th>skewness_about.2</th>\n",
       "      <th>hollows_ratio</th>\n",
       "    </tr>\n",
       "  </thead>\n",
       "  <tbody>\n",
       "    <tr>\n",
       "      <th>0</th>\n",
       "      <td>1.154428</td>\n",
       "      <td>1.184286</td>\n",
       "      <td>1.211987</td>\n",
       "      <td>0.973322</td>\n",
       "      <td>0.094921</td>\n",
       "      <td>0.218659</td>\n",
       "      <td>1.297968</td>\n",
       "      <td>-1.214247</td>\n",
       "      <td>1.301845</td>\n",
       "      <td>1.098306</td>\n",
       "      <td>1.205903</td>\n",
       "      <td>1.308987</td>\n",
       "      <td>1.091213</td>\n",
       "      <td>-0.107879</td>\n",
       "      <td>0.168326</td>\n",
       "      <td>0.267955</td>\n",
       "      <td>0.004670</td>\n",
       "      <td>0.190327</td>\n",
       "    </tr>\n",
       "    <tr>\n",
       "      <th>1</th>\n",
       "      <td>-0.225338</td>\n",
       "      <td>-0.574343</td>\n",
       "      <td>-0.307614</td>\n",
       "      <td>-0.038187</td>\n",
       "      <td>0.181774</td>\n",
       "      <td>-0.172461</td>\n",
       "      <td>-0.455562</td>\n",
       "      <td>0.320123</td>\n",
       "      <td>-0.483944</td>\n",
       "      <td>-0.536606</td>\n",
       "      <td>-0.420568</td>\n",
       "      <td>-0.460233</td>\n",
       "      <td>-0.603828</td>\n",
       "      <td>-0.644323</td>\n",
       "      <td>-0.060996</td>\n",
       "      <td>0.004548</td>\n",
       "      <td>0.824842</td>\n",
       "      <td>0.707985</td>\n",
       "    </tr>\n",
       "    <tr>\n",
       "      <th>2</th>\n",
       "      <td>-0.916833</td>\n",
       "      <td>-0.526197</td>\n",
       "      <td>-0.887660</td>\n",
       "      <td>-1.087301</td>\n",
       "      <td>-0.563172</td>\n",
       "      <td>-0.301083</td>\n",
       "      <td>-0.780130</td>\n",
       "      <td>0.867496</td>\n",
       "      <td>-0.746977</td>\n",
       "      <td>-0.490093</td>\n",
       "      <td>-0.801399</td>\n",
       "      <td>-0.784100</td>\n",
       "      <td>-0.393622</td>\n",
       "      <td>0.779115</td>\n",
       "      <td>-0.091855</td>\n",
       "      <td>-0.283968</td>\n",
       "      <td>-1.043366</td>\n",
       "      <td>-1.099425</td>\n",
       "    </tr>\n",
       "    <tr>\n",
       "      <th>3</th>\n",
       "      <td>-0.733024</td>\n",
       "      <td>0.072735</td>\n",
       "      <td>-0.272171</td>\n",
       "      <td>2.947683</td>\n",
       "      <td>6.836652</td>\n",
       "      <td>8.696706</td>\n",
       "      <td>-0.535008</td>\n",
       "      <td>0.466248</td>\n",
       "      <td>-0.557406</td>\n",
       "      <td>0.283411</td>\n",
       "      <td>1.697528</td>\n",
       "      <td>-0.588068</td>\n",
       "      <td>0.212701</td>\n",
       "      <td>4.965638</td>\n",
       "      <td>-0.274839</td>\n",
       "      <td>-0.231193</td>\n",
       "      <td>-0.707994</td>\n",
       "      <td>-0.453651</td>\n",
       "    </tr>\n",
       "  </tbody>\n",
       "</table>\n",
       "</div>"
      ],
      "text/plain": [
       "   compactness  circularity  distance_circularity  radius_ratio  \\\n",
       "0     1.154428     1.184286              1.211987      0.973322   \n",
       "1    -0.225338    -0.574343             -0.307614     -0.038187   \n",
       "2    -0.916833    -0.526197             -0.887660     -1.087301   \n",
       "3    -0.733024     0.072735             -0.272171      2.947683   \n",
       "\n",
       "   pr.axis_aspect_ratio  max.length_aspect_ratio  scatter_ratio  \\\n",
       "0              0.094921                 0.218659       1.297968   \n",
       "1              0.181774                -0.172461      -0.455562   \n",
       "2             -0.563172                -0.301083      -0.780130   \n",
       "3              6.836652                 8.696706      -0.535008   \n",
       "\n",
       "   elongatedness  pr.axis_rectangularity  max.length_rectangularity  \\\n",
       "0      -1.214247                1.301845                   1.098306   \n",
       "1       0.320123               -0.483944                  -0.536606   \n",
       "2       0.867496               -0.746977                  -0.490093   \n",
       "3       0.466248               -0.557406                   0.283411   \n",
       "\n",
       "   scaled_variance  scaled_variance.1  scaled_radius_of_gyration  \\\n",
       "0         1.205903           1.308987                   1.091213   \n",
       "1        -0.420568          -0.460233                  -0.603828   \n",
       "2        -0.801399          -0.784100                  -0.393622   \n",
       "3         1.697528          -0.588068                   0.212701   \n",
       "\n",
       "   scaled_radius_of_gyration.1  skewness_about  skewness_about.1  \\\n",
       "0                    -0.107879        0.168326          0.267955   \n",
       "1                    -0.644323       -0.060996          0.004548   \n",
       "2                     0.779115       -0.091855         -0.283968   \n",
       "3                     4.965638       -0.274839         -0.231193   \n",
       "\n",
       "   skewness_about.2  hollows_ratio  \n",
       "0          0.004670       0.190327  \n",
       "1          0.824842       0.707985  \n",
       "2         -1.043366      -1.099425  \n",
       "3         -0.707994      -0.453651  "
      ]
     },
     "execution_count": 156,
     "metadata": {},
     "output_type": "execute_result"
    }
   ],
   "source": [
    "labels_df = pd.DataFrame(columns=df.columns, data=df1)\n",
    "labels_df\n"
   ]
  },
  {
   "cell_type": "code",
   "execution_count": null,
   "metadata": {},
   "outputs": [],
   "source": []
  },
  {
   "cell_type": "code",
   "execution_count": null,
   "metadata": {},
   "outputs": [],
   "source": []
  },
  {
   "cell_type": "markdown",
   "metadata": {},
   "source": [
    "### 7. Store the centroids in a dataframe with column names from the original dataset given "
   ]
  },
  {
   "cell_type": "raw",
   "metadata": {},
   "source": []
  },
  {
   "cell_type": "markdown",
   "metadata": {},
   "source": [
    "Hint: Use pd.Dataframe function "
   ]
  },
  {
   "cell_type": "code",
   "execution_count": 161,
   "metadata": {},
   "outputs": [
    {
     "data": {
      "text/html": [
       "<div>\n",
       "<style scoped>\n",
       "    .dataframe tbody tr th:only-of-type {\n",
       "        vertical-align: middle;\n",
       "    }\n",
       "\n",
       "    .dataframe tbody tr th {\n",
       "        vertical-align: top;\n",
       "    }\n",
       "\n",
       "    .dataframe thead th {\n",
       "        text-align: right;\n",
       "    }\n",
       "</style>\n",
       "<table border=\"1\" class=\"dataframe\">\n",
       "  <thead>\n",
       "    <tr style=\"text-align: right;\">\n",
       "      <th></th>\n",
       "      <th>compactness</th>\n",
       "      <th>circularity</th>\n",
       "      <th>distance_circularity</th>\n",
       "      <th>radius_ratio</th>\n",
       "      <th>pr.axis_aspect_ratio</th>\n",
       "      <th>max.length_aspect_ratio</th>\n",
       "      <th>scatter_ratio</th>\n",
       "      <th>elongatedness</th>\n",
       "      <th>pr.axis_rectangularity</th>\n",
       "      <th>max.length_rectangularity</th>\n",
       "      <th>scaled_variance</th>\n",
       "      <th>scaled_variance.1</th>\n",
       "      <th>scaled_radius_of_gyration</th>\n",
       "      <th>scaled_radius_of_gyration.1</th>\n",
       "      <th>skewness_about</th>\n",
       "      <th>skewness_about.1</th>\n",
       "      <th>skewness_about.2</th>\n",
       "      <th>hollows_ratio</th>\n",
       "      <th>class</th>\n",
       "      <th>class_label</th>\n",
       "    </tr>\n",
       "  </thead>\n",
       "  <tbody>\n",
       "    <tr>\n",
       "      <th>0</th>\n",
       "      <td>95</td>\n",
       "      <td>48.0</td>\n",
       "      <td>83.0</td>\n",
       "      <td>178.0</td>\n",
       "      <td>72.0</td>\n",
       "      <td>10</td>\n",
       "      <td>162.0</td>\n",
       "      <td>42.0</td>\n",
       "      <td>20.0</td>\n",
       "      <td>159</td>\n",
       "      <td>176.0</td>\n",
       "      <td>379.0</td>\n",
       "      <td>184.0</td>\n",
       "      <td>70.0</td>\n",
       "      <td>6.0</td>\n",
       "      <td>16.0</td>\n",
       "      <td>187.0</td>\n",
       "      <td>197</td>\n",
       "      <td>van</td>\n",
       "      <td>1.0</td>\n",
       "    </tr>\n",
       "    <tr>\n",
       "      <th>1</th>\n",
       "      <td>91</td>\n",
       "      <td>41.0</td>\n",
       "      <td>84.0</td>\n",
       "      <td>141.0</td>\n",
       "      <td>57.0</td>\n",
       "      <td>9</td>\n",
       "      <td>149.0</td>\n",
       "      <td>45.0</td>\n",
       "      <td>19.0</td>\n",
       "      <td>143</td>\n",
       "      <td>170.0</td>\n",
       "      <td>330.0</td>\n",
       "      <td>158.0</td>\n",
       "      <td>72.0</td>\n",
       "      <td>9.0</td>\n",
       "      <td>14.0</td>\n",
       "      <td>189.0</td>\n",
       "      <td>199</td>\n",
       "      <td>van</td>\n",
       "      <td>1.0</td>\n",
       "    </tr>\n",
       "    <tr>\n",
       "      <th>2</th>\n",
       "      <td>104</td>\n",
       "      <td>50.0</td>\n",
       "      <td>106.0</td>\n",
       "      <td>209.0</td>\n",
       "      <td>66.0</td>\n",
       "      <td>10</td>\n",
       "      <td>207.0</td>\n",
       "      <td>32.0</td>\n",
       "      <td>23.0</td>\n",
       "      <td>158</td>\n",
       "      <td>223.0</td>\n",
       "      <td>635.0</td>\n",
       "      <td>220.0</td>\n",
       "      <td>73.0</td>\n",
       "      <td>14.0</td>\n",
       "      <td>9.0</td>\n",
       "      <td>188.0</td>\n",
       "      <td>196</td>\n",
       "      <td>car</td>\n",
       "      <td>0.0</td>\n",
       "    </tr>\n",
       "    <tr>\n",
       "      <th>3</th>\n",
       "      <td>93</td>\n",
       "      <td>41.0</td>\n",
       "      <td>82.0</td>\n",
       "      <td>159.0</td>\n",
       "      <td>63.0</td>\n",
       "      <td>9</td>\n",
       "      <td>144.0</td>\n",
       "      <td>46.0</td>\n",
       "      <td>19.0</td>\n",
       "      <td>143</td>\n",
       "      <td>160.0</td>\n",
       "      <td>309.0</td>\n",
       "      <td>127.0</td>\n",
       "      <td>63.0</td>\n",
       "      <td>6.0</td>\n",
       "      <td>10.0</td>\n",
       "      <td>199.0</td>\n",
       "      <td>207</td>\n",
       "      <td>van</td>\n",
       "      <td>1.0</td>\n",
       "    </tr>\n",
       "    <tr>\n",
       "      <th>4</th>\n",
       "      <td>85</td>\n",
       "      <td>44.0</td>\n",
       "      <td>70.0</td>\n",
       "      <td>205.0</td>\n",
       "      <td>103.0</td>\n",
       "      <td>52</td>\n",
       "      <td>149.0</td>\n",
       "      <td>45.0</td>\n",
       "      <td>19.0</td>\n",
       "      <td>144</td>\n",
       "      <td>241.0</td>\n",
       "      <td>325.0</td>\n",
       "      <td>188.0</td>\n",
       "      <td>127.0</td>\n",
       "      <td>9.0</td>\n",
       "      <td>11.0</td>\n",
       "      <td>180.0</td>\n",
       "      <td>183</td>\n",
       "      <td>bus</td>\n",
       "      <td>3.0</td>\n",
       "    </tr>\n",
       "  </tbody>\n",
       "</table>\n",
       "</div>"
      ],
      "text/plain": [
       "   compactness  circularity  distance_circularity  radius_ratio  \\\n",
       "0           95         48.0                  83.0         178.0   \n",
       "1           91         41.0                  84.0         141.0   \n",
       "2          104         50.0                 106.0         209.0   \n",
       "3           93         41.0                  82.0         159.0   \n",
       "4           85         44.0                  70.0         205.0   \n",
       "\n",
       "   pr.axis_aspect_ratio  max.length_aspect_ratio  scatter_ratio  \\\n",
       "0                  72.0                       10          162.0   \n",
       "1                  57.0                        9          149.0   \n",
       "2                  66.0                       10          207.0   \n",
       "3                  63.0                        9          144.0   \n",
       "4                 103.0                       52          149.0   \n",
       "\n",
       "   elongatedness  pr.axis_rectangularity  max.length_rectangularity  \\\n",
       "0           42.0                    20.0                        159   \n",
       "1           45.0                    19.0                        143   \n",
       "2           32.0                    23.0                        158   \n",
       "3           46.0                    19.0                        143   \n",
       "4           45.0                    19.0                        144   \n",
       "\n",
       "   scaled_variance  scaled_variance.1  scaled_radius_of_gyration  \\\n",
       "0            176.0              379.0                      184.0   \n",
       "1            170.0              330.0                      158.0   \n",
       "2            223.0              635.0                      220.0   \n",
       "3            160.0              309.0                      127.0   \n",
       "4            241.0              325.0                      188.0   \n",
       "\n",
       "   scaled_radius_of_gyration.1  skewness_about  skewness_about.1  \\\n",
       "0                         70.0             6.0              16.0   \n",
       "1                         72.0             9.0              14.0   \n",
       "2                         73.0            14.0               9.0   \n",
       "3                         63.0             6.0              10.0   \n",
       "4                        127.0             9.0              11.0   \n",
       "\n",
       "   skewness_about.2  hollows_ratio class  class_label  \n",
       "0             187.0            197   van          1.0  \n",
       "1             189.0            199   van          1.0  \n",
       "2             188.0            196   car          0.0  \n",
       "3             199.0            207   van          1.0  \n",
       "4             180.0            183   bus          3.0  "
      ]
     },
     "execution_count": 161,
     "metadata": {},
     "output_type": "execute_result"
    }
   ],
   "source": [
    "labels_df = pd.DataFrame(columns=['class_label'], data=km.labels_)\n",
    "labels_df\n",
    "\n",
    "data['class_label']=labels_df\n",
    "data.head()"
   ]
  },
  {
   "cell_type": "code",
   "execution_count": null,
   "metadata": {},
   "outputs": [],
   "source": []
  },
  {
   "cell_type": "markdown",
   "metadata": {},
   "source": [
    "### Use kmeans.labels_ function to print out the labels of the classes"
   ]
  },
  {
   "cell_type": "code",
   "execution_count": 162,
   "metadata": {},
   "outputs": [
    {
     "data": {
      "text/plain": [
       "array([1, 1, 0, 1, 3, 1, 1, 1, 1, 1, 1, 1, 1, 0, 2, 1, 0, 2, 2, 1, 1, 0,\n",
       "       1, 2, 0, 0, 2, 1, 1, 1, 0, 1, 2, 3, 0, 2, 0, 2, 2, 1, 0, 2, 2, 2,\n",
       "       2, 1, 2, 1, 0, 1, 0, 1, 1, 2, 0, 2, 0, 2, 2, 2, 1, 2, 0, 1, 0, 0,\n",
       "       1, 2, 1, 0, 1, 2, 2, 0, 1, 2, 1, 0, 1, 2, 1, 2, 0, 1, 0, 1, 2, 0,\n",
       "       2, 2, 0, 2, 3, 1, 1, 2, 0, 0, 2, 2, 0, 1, 1, 2, 2, 2, 1, 0, 0, 1,\n",
       "       2, 2, 1, 2, 2, 2, 2, 2, 1, 0, 0, 1, 1, 2, 0, 3, 2, 1, 2, 1, 1, 0,\n",
       "       2, 1, 0, 1, 1, 1, 1, 0, 1, 1, 0, 1, 0, 1, 2, 1, 2, 0, 1, 1, 0, 0,\n",
       "       1, 0, 2, 2, 0, 0, 1, 0, 1, 1, 1, 1, 2, 0, 2, 1, 2, 0, 1, 1, 1, 0,\n",
       "       1, 0, 1, 0, 1, 2, 0, 2, 2, 2, 1, 1, 0, 0, 1, 1, 1, 2, 0, 1, 1, 1,\n",
       "       0, 2, 2, 0, 2, 1, 0, 2, 2, 2, 1, 0, 1, 0, 2, 2, 2, 2, 0, 1, 2, 1,\n",
       "       0, 2, 1, 1, 2, 0, 2, 2, 1, 1, 0, 2, 0, 2, 1, 1, 0, 1, 1, 0, 0, 2,\n",
       "       1, 1, 1, 0, 2, 1, 1, 2, 2, 1, 1, 0, 1, 2, 2, 0, 1, 1, 2, 2, 0, 2,\n",
       "       1, 0, 2, 1, 3, 1, 1, 0, 1, 0, 2, 1, 1, 0, 1, 1, 1, 2, 1, 0, 0, 0,\n",
       "       0, 2, 1, 0, 2, 2, 2, 1, 2, 0, 0, 2, 0, 1, 2, 0, 2, 1, 1, 0, 0, 2,\n",
       "       0, 0, 2, 0, 1, 1, 1, 2, 2, 0, 0, 0, 1, 1, 1, 0, 2, 1, 2, 0, 1, 1,\n",
       "       0, 1, 0, 0, 0, 1, 2, 2, 0, 2, 2, 2, 1, 1, 1, 1, 2, 0, 0, 2, 2, 0,\n",
       "       2, 0, 2, 0, 1, 2, 1, 2, 3, 0, 2, 1, 1, 1, 0, 1, 1, 1, 1, 0, 1, 0,\n",
       "       1, 0, 1, 2, 2, 1, 1, 1, 2, 2, 1, 2, 0, 1, 1, 2, 2, 0, 1, 2, 1, 1,\n",
       "       0, 1, 0, 1, 0, 0, 2, 2, 0, 1, 2, 2, 1, 0, 0, 2, 1, 0, 0, 2, 0, 0,\n",
       "       0, 1, 1, 1, 1, 1, 0, 2, 2, 1, 0, 1, 1, 0, 1, 2, 0, 2, 2, 0, 1, 2,\n",
       "       0, 0, 0, 2, 0, 0, 2, 1, 2, 0, 0, 1, 1, 2, 2, 0, 1, 2, 0, 0, 1, 2,\n",
       "       0, 0, 1, 2, 2, 0, 0, 0, 2, 2, 0, 0, 0, 1, 1, 0, 2, 1, 0, 1, 2, 2,\n",
       "       1, 0, 2, 1, 1, 2, 3, 0, 1, 0, 0, 1, 2, 1, 0, 0, 2, 2, 1, 0, 1, 0,\n",
       "       0, 1, 1, 1, 1, 2, 2, 2, 1, 1, 0, 2, 2, 1, 2, 0, 1, 0, 2, 2, 0, 0,\n",
       "       1, 0, 1, 1, 1, 0, 1, 2, 1, 0, 1, 1, 2, 0, 0, 0, 0, 1, 2, 2, 2, 0,\n",
       "       0, 0, 1, 0, 2, 1, 0, 2, 2, 2, 1, 2, 0, 1, 1, 1, 1, 1, 1, 0, 1, 1,\n",
       "       0, 1, 1, 1, 2, 0, 2, 2, 1, 2, 1, 1, 2, 2, 0, 0, 2, 1, 0, 2, 0, 1,\n",
       "       1, 0, 1, 2, 0, 2, 0, 2, 2, 1, 2, 1, 0, 0, 2, 0, 1, 1, 2, 1, 2, 0,\n",
       "       1, 0, 2, 1, 1, 1, 2, 2, 2, 1, 0, 1, 0, 2, 1, 1, 1, 1, 0, 1, 2, 0,\n",
       "       1, 0, 1, 1, 0, 2, 0, 2, 1, 1, 1, 2, 0, 1, 2, 1, 0, 2, 0, 1, 1, 0,\n",
       "       2, 1, 2, 1, 1, 2, 1, 0, 0, 1, 1, 0, 0, 3, 1, 2, 1, 0, 0, 0, 0, 1,\n",
       "       0, 1, 1, 0, 0, 1, 0, 1, 0, 1, 2, 0, 1, 2, 0, 0, 0, 1, 0, 2, 2, 0,\n",
       "       0, 0, 1, 0, 1, 1, 0, 1, 2, 1, 2, 1, 0, 1, 2, 1, 1, 1, 2, 0, 2, 2,\n",
       "       2, 0, 0, 2, 0, 0, 2, 1, 1, 0, 1, 2, 0, 0, 2, 1, 1, 0, 0, 0, 2, 0,\n",
       "       1, 0, 0, 2, 2, 0, 2, 0, 1, 2, 1, 0, 0, 1, 2, 1, 0, 0, 1, 1, 2, 1,\n",
       "       1, 0, 2, 1, 0, 2, 2, 0, 2, 1, 2, 2, 2, 1, 0, 0, 1, 2, 0, 1, 0, 0,\n",
       "       2, 1, 0, 2, 2, 1, 1, 0, 2, 2, 0, 2, 1, 1, 1, 1, 1, 1, 0, 1, 2])"
      ]
     },
     "execution_count": 162,
     "metadata": {},
     "output_type": "execute_result"
    }
   ],
   "source": [
    "km.labels_"
   ]
  },
  {
   "cell_type": "code",
   "execution_count": null,
   "metadata": {},
   "outputs": [],
   "source": []
  },
  {
   "cell_type": "markdown",
   "metadata": {},
   "source": [
    "## Hierarchical Clustering "
   ]
  },
  {
   "cell_type": "markdown",
   "metadata": {},
   "source": [
    "### 8. Variable creation"
   ]
  },
  {
   "cell_type": "markdown",
   "metadata": {},
   "source": [
    "For Hierarchical clustering, we will create datasets using multivariate normal distribution to visually observe how the clusters are formed at the end"
   ]
  },
  {
   "cell_type": "code",
   "execution_count": 167,
   "metadata": {},
   "outputs": [],
   "source": []
  },
  {
   "cell_type": "raw",
   "metadata": {},
   "source": [
    "a = np.random.multivariate_normal([10, 0], [[3, 1], [1, 4]], size=[100,])\n",
    "b = np.random.multivariate_normal([0, 20], [[3, 1], [1, 4]], size=[50,])\n",
    "c = np.random.multivariate_normal([10, 20], [[3, 1], [1, 4]], size=[100,])"
   ]
  },
  {
   "cell_type": "code",
   "execution_count": 184,
   "metadata": {},
   "outputs": [],
   "source": [
    "a = np.random.multivariate_normal([10, 0], [[3, 1], [1, 4]], size=[100,])\n",
    "b = np.random.multivariate_normal([0, 20], [[3, 1], [1, 4]], size=[50,])\n",
    "c = np.random.multivariate_normal([10, 20], [[3, 1], [1, 4]], size=[100,])"
   ]
  },
  {
   "cell_type": "markdown",
   "metadata": {},
   "source": [
    "### 9. Combine all three arrays a,b,c into a dataframe"
   ]
  },
  {
   "cell_type": "code",
   "execution_count": 189,
   "metadata": {},
   "outputs": [
    {
     "data": {
      "text/html": [
       "<div>\n",
       "<style scoped>\n",
       "    .dataframe tbody tr th:only-of-type {\n",
       "        vertical-align: middle;\n",
       "    }\n",
       "\n",
       "    .dataframe tbody tr th {\n",
       "        vertical-align: top;\n",
       "    }\n",
       "\n",
       "    .dataframe thead th {\n",
       "        text-align: right;\n",
       "    }\n",
       "</style>\n",
       "<table border=\"1\" class=\"dataframe\">\n",
       "  <thead>\n",
       "    <tr style=\"text-align: right;\">\n",
       "      <th></th>\n",
       "      <th>0</th>\n",
       "      <th>1</th>\n",
       "    </tr>\n",
       "  </thead>\n",
       "  <tbody>\n",
       "    <tr>\n",
       "      <th>0</th>\n",
       "      <td>11.950450</td>\n",
       "      <td>0.538658</td>\n",
       "    </tr>\n",
       "    <tr>\n",
       "      <th>1</th>\n",
       "      <td>8.182985</td>\n",
       "      <td>0.894517</td>\n",
       "    </tr>\n",
       "    <tr>\n",
       "      <th>2</th>\n",
       "      <td>10.098920</td>\n",
       "      <td>1.968508</td>\n",
       "    </tr>\n",
       "    <tr>\n",
       "      <th>3</th>\n",
       "      <td>7.286074</td>\n",
       "      <td>1.903814</td>\n",
       "    </tr>\n",
       "    <tr>\n",
       "      <th>4</th>\n",
       "      <td>9.608745</td>\n",
       "      <td>-0.523516</td>\n",
       "    </tr>\n",
       "  </tbody>\n",
       "</table>\n",
       "</div>"
      ],
      "text/plain": [
       "           0         1\n",
       "0  11.950450  0.538658\n",
       "1   8.182985  0.894517\n",
       "2  10.098920  1.968508\n",
       "3   7.286074  1.903814\n",
       "4   9.608745 -0.523516"
      ]
     },
     "execution_count": 189,
     "metadata": {},
     "output_type": "execute_result"
    }
   ],
   "source": [
    "df = pd.DataFrame(data = a)\n",
    "df  = df.append(pd.DataFrame(data = b))\n",
    "df  = df.append(pd.DataFrame(data = c))\n",
    "df.head()"
   ]
  },
  {
   "cell_type": "code",
   "execution_count": null,
   "metadata": {},
   "outputs": [],
   "source": []
  },
  {
   "cell_type": "markdown",
   "metadata": {},
   "source": [
    "### 10. Use scatter matrix to print all the 3 distributions"
   ]
  },
  {
   "cell_type": "code",
   "execution_count": 193,
   "metadata": {},
   "outputs": [
    {
     "data": {
      "text/plain": [
       "<matplotlib.axes._subplots.AxesSubplot at 0x22309015438>"
      ]
     },
     "execution_count": 193,
     "metadata": {},
     "output_type": "execute_result"
    },
    {
     "data": {
      "image/png": "[encoded data removed]",
      "text/plain": [
       "<Figure size 842.4x595.44 with 1 Axes>"
      ]
     },
     "metadata": {},
     "output_type": "display_data"
    }
   ],
   "source": [
    "import seaborn as sns\n",
    "%matplotlib inline\n",
    "sns.set(rc={'figure.figsize':(11.7,8.27)})\n",
    "sns.scatterplot(x=0, y=1, data=df)"
   ]
  },
  {
   "cell_type": "code",
   "execution_count": null,
   "metadata": {},
   "outputs": [],
   "source": []
  },
  {
   "cell_type": "markdown",
   "metadata": {},
   "source": [
    "### 11. Find out the linkage matrix"
   ]
  },
  {
   "cell_type": "code",
   "execution_count": 200,
   "metadata": {},
   "outputs": [
    {
     "data": {
      "text/plain": [
       "array([[1.64000000e+02, 1.99000000e+02, 2.06610381e-02, 2.00000000e+00],\n",
       "       [1.50000000e+02, 2.31000000e+02, 4.00995269e-02, 2.00000000e+00],\n",
       "       [2.13000000e+02, 2.48000000e+02, 5.94149101e-02, 2.00000000e+00],\n",
       "       [1.01000000e+02, 1.48000000e+02, 6.81336181e-02, 2.00000000e+00],\n",
       "       [1.28000000e+02, 1.47000000e+02, 7.64408120e-02, 2.00000000e+00],\n",
       "       [1.00000000e+00, 6.10000000e+01, 7.70795686e-02, 2.00000000e+00],\n",
       "       [1.80000000e+02, 2.12000000e+02, 8.38331390e-02, 2.00000000e+00],\n",
       "       [1.50000000e+01, 4.50000000e+01, 8.64456822e-02, 2.00000000e+00],\n",
       "       [5.70000000e+01, 9.80000000e+01, 8.70504177e-02, 2.00000000e+00],\n",
       "       [1.73000000e+02, 1.78000000e+02, 9.52662142e-02, 2.00000000e+00],\n",
       "       [5.30000000e+01, 8.40000000e+01, 9.70507200e-02, 2.00000000e+00],\n",
       "       [2.05000000e+02, 2.24000000e+02, 1.19231718e-01, 2.00000000e+00],\n",
       "       [1.67000000e+02, 2.51000000e+02, 1.19736462e-01, 3.00000000e+00],\n",
       "       [4.80000000e+01, 6.20000000e+01, 1.20932035e-01, 2.00000000e+00],\n",
       "       [8.70000000e+01, 2.63000000e+02, 1.28763599e-01, 3.00000000e+00],\n",
       "       [2.18000000e+02, 2.20000000e+02, 1.31445179e-01, 2.00000000e+00],\n",
       "       [1.15000000e+02, 1.22000000e+02, 1.31729972e-01, 2.00000000e+00],\n",
       "       [2.17000000e+02, 2.38000000e+02, 1.34051229e-01, 2.00000000e+00],\n",
       "       [1.20000000e+01, 3.80000000e+01, 1.37655883e-01, 2.00000000e+00],\n",
       "       [4.20000000e+01, 5.40000000e+01, 1.49112517e-01, 2.00000000e+00],\n",
       "       [1.53000000e+02, 2.40000000e+02, 1.54291138e-01, 2.00000000e+00],\n",
       "       [1.30000000e+01, 6.30000000e+01, 1.58511163e-01, 2.00000000e+00],\n",
       "       [2.11000000e+02, 2.46000000e+02, 1.59723074e-01, 2.00000000e+00],\n",
       "       [1.72000000e+02, 1.96000000e+02, 1.67123139e-01, 2.00000000e+00],\n",
       "       [2.00000000e+00, 8.00000000e+00, 1.68560893e-01, 2.00000000e+00],\n",
       "       [2.03000000e+02, 2.67000000e+02, 1.71853981e-01, 3.00000000e+00],\n",
       "       [8.00000000e+01, 9.70000000e+01, 1.75195098e-01, 2.00000000e+00],\n",
       "       [2.30000000e+01, 4.10000000e+01, 1.86931889e-01, 2.00000000e+00],\n",
       "       [1.20000000e+02, 2.66000000e+02, 1.94633850e-01, 3.00000000e+00],\n",
       "       [2.80000000e+01, 8.30000000e+01, 1.95635904e-01, 2.00000000e+00],\n",
       "       [3.00000000e+01, 7.50000000e+01, 1.98549611e-01, 2.00000000e+00],\n",
       "       [5.00000000e+01, 5.20000000e+01, 2.01017616e-01, 2.00000000e+00],\n",
       "       [1.60000000e+01, 8.10000000e+01, 2.01037891e-01, 2.00000000e+00],\n",
       "       [3.50000000e+01, 7.60000000e+01, 2.14781076e-01, 2.00000000e+00],\n",
       "       [1.87000000e+02, 2.10000000e+02, 2.16239061e-01, 2.00000000e+00],\n",
       "       [1.10000000e+02, 1.40000000e+02, 2.17924830e-01, 2.00000000e+00],\n",
       "       [1.66000000e+02, 2.27000000e+02, 2.21760814e-01, 2.00000000e+00],\n",
       "       [1.79000000e+02, 2.04000000e+02, 2.25728156e-01, 2.00000000e+00],\n",
       "       [5.00000000e+00, 7.20000000e+01, 2.32273957e-01, 2.00000000e+00],\n",
       "       [3.90000000e+01, 2.79000000e+02, 2.34024117e-01, 3.00000000e+00],\n",
       "       [1.56000000e+02, 2.33000000e+02, 2.34542626e-01, 2.00000000e+00],\n",
       "       [1.97000000e+02, 2.52000000e+02, 2.35548128e-01, 3.00000000e+00],\n",
       "       [6.00000000e+00, 7.80000000e+01, 2.35779028e-01, 2.00000000e+00],\n",
       "       [3.00000000e+00, 8.80000000e+01, 2.36940866e-01, 2.00000000e+00],\n",
       "       [1.85000000e+02, 2.35000000e+02, 2.38793054e-01, 2.00000000e+00],\n",
       "       [1.16000000e+02, 1.38000000e+02, 2.51171886e-01, 2.00000000e+00],\n",
       "       [9.00000000e+00, 1.00000000e+01, 2.53954846e-01, 2.00000000e+00],\n",
       "       [1.11000000e+02, 1.37000000e+02, 2.57255673e-01, 2.00000000e+00],\n",
       "       [2.00000000e+01, 2.83000000e+02, 2.58061147e-01, 3.00000000e+00],\n",
       "       [1.58000000e+02, 1.92000000e+02, 2.59860498e-01, 2.00000000e+00],\n",
       "       [1.40000000e+01, 4.90000000e+01, 2.66001265e-01, 2.00000000e+00],\n",
       "       [3.60000000e+01, 7.10000000e+01, 2.70514227e-01, 2.00000000e+00],\n",
       "       [1.81000000e+02, 2.19000000e+02, 2.77203849e-01, 2.00000000e+00],\n",
       "       [2.08000000e+02, 2.99000000e+02, 2.77332573e-01, 3.00000000e+00],\n",
       "       [1.03000000e+02, 1.43000000e+02, 2.78297928e-01, 2.00000000e+00],\n",
       "       [2.10000000e+01, 5.50000000e+01, 2.80957184e-01, 2.00000000e+00],\n",
       "       [7.30000000e+01, 2.76000000e+02, 2.83093523e-01, 3.00000000e+00],\n",
       "       [1.55000000e+02, 2.29000000e+02, 2.84661926e-01, 2.00000000e+00],\n",
       "       [4.00000000e+00, 9.00000000e+01, 2.86507762e-01, 2.00000000e+00],\n",
       "       [1.57000000e+02, 2.41000000e+02, 2.86557333e-01, 2.00000000e+00],\n",
       "       [1.00000000e+02, 2.54000000e+02, 2.90450014e-01, 3.00000000e+00],\n",
       "       [6.80000000e+01, 7.40000000e+01, 2.91445103e-01, 2.00000000e+00],\n",
       "       [1.83000000e+02, 2.34000000e+02, 2.96732513e-01, 2.00000000e+00],\n",
       "       [1.75000000e+02, 2.47000000e+02, 2.98720582e-01, 2.00000000e+00],\n",
       "       [5.60000000e+01, 2.58000000e+02, 3.13825355e-01, 3.00000000e+00],\n",
       "       [1.71000000e+02, 2.16000000e+02, 3.14846593e-01, 2.00000000e+00],\n",
       "       [6.40000000e+01, 2.60000000e+02, 3.26591504e-01, 3.00000000e+00],\n",
       "       [2.28000000e+02, 2.75000000e+02, 3.26966687e-01, 4.00000000e+00],\n",
       "       [3.30000000e+01, 5.10000000e+01, 3.28613057e-01, 2.00000000e+00],\n",
       "       [6.90000000e+01, 8.20000000e+01, 3.31995797e-01, 2.00000000e+00],\n",
       "       [1.59000000e+02, 2.14000000e+02, 3.35986034e-01, 2.00000000e+00],\n",
       "       [1.61000000e+02, 2.32000000e+02, 3.37134069e-01, 2.00000000e+00],\n",
       "       [2.01000000e+02, 2.06000000e+02, 3.37637204e-01, 2.00000000e+00],\n",
       "       [3.10000000e+01, 4.70000000e+01, 3.39379555e-01, 2.00000000e+00],\n",
       "       [1.51000000e+02, 2.44000000e+02, 3.52869744e-01, 2.00000000e+00],\n",
       "       [1.27000000e+02, 1.39000000e+02, 3.59367324e-01, 2.00000000e+00],\n",
       "       [9.30000000e+01, 3.01000000e+02, 3.59741933e-01, 3.00000000e+00],\n",
       "       [1.88000000e+02, 2.56000000e+02, 3.74568929e-01, 3.00000000e+00],\n",
       "       [7.90000000e+01, 2.68000000e+02, 3.82343468e-01, 3.00000000e+00],\n",
       "       [1.26000000e+02, 1.36000000e+02, 3.84356548e-01, 2.00000000e+00],\n",
       "       [1.90000000e+01, 4.00000000e+01, 3.91692164e-01, 2.00000000e+00],\n",
       "       [1.90000000e+02, 2.37000000e+02, 3.93334405e-01, 2.00000000e+00],\n",
       "       [2.02000000e+02, 2.49000000e+02, 3.95047656e-01, 2.00000000e+00],\n",
       "       [1.84000000e+02, 1.86000000e+02, 4.08004297e-01, 2.00000000e+00],\n",
       "       [1.21000000e+02, 1.45000000e+02, 4.11530700e-01, 2.00000000e+00],\n",
       "       [2.50000000e+02, 2.73000000e+02, 4.13055250e-01, 4.00000000e+00],\n",
       "       [2.21000000e+02, 2.87000000e+02, 4.17386237e-01, 3.00000000e+00],\n",
       "       [2.70000000e+02, 2.91000000e+02, 4.28165035e-01, 5.00000000e+00],\n",
       "       [2.81000000e+02, 3.16000000e+02, 4.29554828e-01, 5.00000000e+00],\n",
       "       [3.70000000e+01, 4.60000000e+01, 4.36226978e-01, 2.00000000e+00],\n",
       "       [6.50000000e+01, 2.74000000e+02, 4.36677531e-01, 3.00000000e+00],\n",
       "       [3.40000000e+01, 4.40000000e+01, 4.44689160e-01, 2.00000000e+00],\n",
       "       [1.76000000e+02, 2.59000000e+02, 4.46080866e-01, 3.00000000e+00],\n",
       "       [1.69000000e+02, 2.42000000e+02, 4.49531527e-01, 2.00000000e+00],\n",
       "       [2.00000000e+02, 2.23000000e+02, 4.52583690e-01, 2.00000000e+00],\n",
       "       [1.63000000e+02, 2.84000000e+02, 4.54487505e-01, 3.00000000e+00],\n",
       "       [1.30000000e+02, 1.44000000e+02, 4.61620314e-01, 2.00000000e+00],\n",
       "       [2.22000000e+02, 2.43000000e+02, 4.64714506e-01, 2.00000000e+00],\n",
       "       [2.30000000e+02, 2.72000000e+02, 4.67283017e-01, 3.00000000e+00],\n",
       "       [2.50000000e+01, 5.90000000e+01, 4.90673272e-01, 2.00000000e+00],\n",
       "       [2.20000000e+01, 6.70000000e+01, 4.90809549e-01, 2.00000000e+00],\n",
       "       [1.10000000e+01, 3.20000000e+01, 4.92314965e-01, 2.00000000e+00],\n",
       "       [7.00000000e+00, 2.82000000e+02, 5.01419849e-01, 3.00000000e+00],\n",
       "       [2.60000000e+01, 2.96000000e+02, 5.05793538e-01, 3.00000000e+00],\n",
       "       [2.40000000e+01, 3.05000000e+02, 5.07077185e-01, 3.00000000e+00],\n",
       "       [1.06000000e+02, 1.18000000e+02, 5.08104232e-01, 2.00000000e+00],\n",
       "       [5.80000000e+01, 3.14000000e+02, 5.14372026e-01, 4.00000000e+00],\n",
       "       [2.15000000e+02, 2.25000000e+02, 5.20060992e-01, 2.00000000e+00],\n",
       "       [3.21000000e+02, 3.35000000e+02, 5.36345333e-01, 6.00000000e+00],\n",
       "       [3.17000000e+02, 3.27000000e+02, 5.60526118e-01, 7.00000000e+00],\n",
       "       [8.60000000e+01, 2.69000000e+02, 5.72427103e-01, 3.00000000e+00],\n",
       "       [2.07000000e+02, 2.65000000e+02, 5.95531873e-01, 3.00000000e+00],\n",
       "       [1.89000000e+02, 2.26000000e+02, 5.97074318e-01, 2.00000000e+00],\n",
       "       [1.54000000e+02, 3.37000000e+02, 5.98171837e-01, 6.00000000e+00],\n",
       "       [1.24000000e+02, 1.41000000e+02, 5.99968902e-01, 2.00000000e+00],\n",
       "       [1.07000000e+02, 1.12000000e+02, 6.08613497e-01, 2.00000000e+00],\n",
       "       [2.77000000e+02, 2.88000000e+02, 6.22961670e-01, 4.00000000e+00],\n",
       "       [6.60000000e+01, 2.55000000e+02, 6.32537763e-01, 3.00000000e+00],\n",
       "       [1.31000000e+02, 1.33000000e+02, 6.33563625e-01, 2.00000000e+00],\n",
       "       [3.03000000e+02, 3.47000000e+02, 6.37246134e-01, 5.00000000e+00],\n",
       "       [2.61000000e+02, 3.31000000e+02, 6.64675355e-01, 4.00000000e+00],\n",
       "       [7.70000000e+01, 9.20000000e+01, 6.67986812e-01, 2.00000000e+00],\n",
       "       [1.25000000e+02, 1.46000000e+02, 6.69273897e-01, 2.00000000e+00],\n",
       "       [1.68000000e+02, 2.09000000e+02, 6.76368936e-01, 2.00000000e+00],\n",
       "       [1.70000000e+02, 2.86000000e+02, 6.91306994e-01, 3.00000000e+00],\n",
       "       [2.57000000e+02, 2.89000000e+02, 6.93775651e-01, 5.00000000e+00],\n",
       "       [2.45000000e+02, 3.36000000e+02, 7.02845909e-01, 4.00000000e+00],\n",
       "       [0.00000000e+00, 3.41000000e+02, 7.06807142e-01, 3.00000000e+00],\n",
       "       [3.11000000e+02, 3.26000000e+02, 7.07507488e-01, 5.00000000e+00],\n",
       "       [1.80000000e+01, 3.00000000e+02, 7.19997019e-01, 3.00000000e+00],\n",
       "       [2.62000000e+02, 3.09000000e+02, 7.23261697e-01, 5.00000000e+00],\n",
       "       [1.09000000e+02, 2.97000000e+02, 7.25880607e-01, 3.00000000e+00],\n",
       "       [1.05000000e+02, 3.34000000e+02, 7.40076505e-01, 3.00000000e+00],\n",
       "       [2.70000000e+01, 8.50000000e+01, 7.54474844e-01, 2.00000000e+00],\n",
       "       [1.29000000e+02, 3.10000000e+02, 7.66334719e-01, 4.00000000e+00],\n",
       "       [1.14000000e+02, 1.19000000e+02, 7.73208412e-01, 2.00000000e+00],\n",
       "       [2.90000000e+01, 8.90000000e+01, 7.77890042e-01, 2.00000000e+00],\n",
       "       [2.98000000e+02, 3.40000000e+02, 7.93425938e-01, 6.00000000e+00],\n",
       "       [3.28000000e+02, 3.53000000e+02, 8.21294699e-01, 6.00000000e+00],\n",
       "       [3.07000000e+02, 3.80000000e+02, 8.33900600e-01, 7.00000000e+00],\n",
       "       [2.71000000e+02, 3.06000000e+02, 8.48349349e-01, 5.00000000e+00],\n",
       "       [7.00000000e+01, 3.51000000e+02, 8.58396709e-01, 3.00000000e+00],\n",
       "       [3.02000000e+02, 3.73000000e+02, 8.75435935e-01, 4.00000000e+00],\n",
       "       [9.10000000e+01, 9.40000000e+01, 8.76285478e-01, 2.00000000e+00],\n",
       "       [3.24000000e+02, 3.63000000e+02, 8.78046210e-01, 8.00000000e+00],\n",
       "       [1.74000000e+02, 3.57000000e+02, 8.78364605e-01, 3.00000000e+00],\n",
       "       [1.04000000e+02, 3.46000000e+02, 9.08943206e-01, 3.00000000e+00],\n",
       "       [3.32000000e+02, 3.62000000e+02, 9.45960709e-01, 4.00000000e+00],\n",
       "       [1.93000000e+02, 1.94000000e+02, 9.71184471e-01, 2.00000000e+00],\n",
       "       [1.70000000e+01, 6.00000000e+01, 9.74300399e-01, 2.00000000e+00],\n",
       "       [3.19000000e+02, 3.56000000e+02, 9.75552058e-01, 6.00000000e+00],\n",
       "       [3.08000000e+02, 3.66000000e+02, 1.01145971e+00, 6.00000000e+00],\n",
       "       [3.42000000e+02, 3.74000000e+02, 1.01446482e+00, 6.00000000e+00],\n",
       "       [3.64000000e+02, 3.68000000e+02, 1.02454805e+00, 4.00000000e+00],\n",
       "       [2.90000000e+02, 3.33000000e+02, 1.08552735e+00, 4.00000000e+00],\n",
       "       [3.45000000e+02, 3.58000000e+02, 1.09880913e+00, 9.00000000e+00],\n",
       "       [2.78000000e+02, 3.04000000e+02, 1.12555392e+00, 5.00000000e+00],\n",
       "       [1.60000000e+02, 1.95000000e+02, 1.13912870e+00, 2.00000000e+00],\n",
       "       [2.36000000e+02, 3.22000000e+02, 1.14025322e+00, 3.00000000e+00],\n",
       "       [4.30000000e+01, 3.30000000e+02, 1.15884143e+00, 3.00000000e+00],\n",
       "       [3.67000000e+02, 3.78000000e+02, 1.22791939e+00, 8.00000000e+00],\n",
       "       [1.34000000e+02, 4.06000000e+02, 1.24083180e+00, 6.00000000e+00],\n",
       "       [1.49000000e+02, 3.81000000e+02, 1.28924151e+00, 4.00000000e+00],\n",
       "       [9.50000000e+01, 3.50000000e+02, 1.29194496e+00, 3.00000000e+00],\n",
       "       [2.80000000e+02, 3.49000000e+02, 1.29805758e+00, 4.00000000e+00],\n",
       "       [1.17000000e+02, 3.65000000e+02, 1.30894132e+00, 3.00000000e+00],\n",
       "       [1.23000000e+02, 3.55000000e+02, 1.32343723e+00, 3.00000000e+00],\n",
       "       [1.35000000e+02, 3.72000000e+02, 1.32978607e+00, 3.00000000e+00],\n",
       "       [2.92000000e+02, 3.88000000e+02, 1.35503683e+00, 8.00000000e+00],\n",
       "       [1.52000000e+02, 1.82000000e+02, 1.39956658e+00, 2.00000000e+00],\n",
       "       [3.38000000e+02, 4.01000000e+02, 1.40729179e+00, 1.10000000e+01],\n",
       "       [3.13000000e+02, 3.15000000e+02, 1.45294178e+00, 4.00000000e+00],\n",
       "       [1.32000000e+02, 1.42000000e+02, 1.49017620e+00, 2.00000000e+00],\n",
       "       [9.60000000e+01, 3.87000000e+02, 1.55324564e+00, 7.00000000e+00],\n",
       "       [3.29000000e+02, 3.85000000e+02, 1.58063084e+00, 4.00000000e+00],\n",
       "       [3.44000000e+02, 4.05000000e+02, 1.59008247e+00, 1.10000000e+01],\n",
       "       [1.65000000e+02, 1.91000000e+02, 1.59693134e+00, 2.00000000e+00],\n",
       "       [3.61000000e+02, 3.69000000e+02, 1.63182507e+00, 8.00000000e+00],\n",
       "       [2.53000000e+02, 3.84000000e+02, 1.64773707e+00, 6.00000000e+00],\n",
       "       [3.23000000e+02, 3.91000000e+02, 1.65938758e+00, 5.00000000e+00],\n",
       "       [2.39000000e+02, 3.20000000e+02, 1.66280739e+00, 3.00000000e+00],\n",
       "       [2.64000000e+02, 4.18000000e+02, 1.68662739e+00, 1.10000000e+01],\n",
       "       [1.08000000e+02, 4.11000000e+02, 1.72887515e+00, 7.00000000e+00],\n",
       "       [3.82000000e+02, 4.12000000e+02, 1.73607835e+00, 7.00000000e+00],\n",
       "       [3.52000000e+02, 3.86000000e+02, 1.73831169e+00, 5.00000000e+00],\n",
       "       [3.48000000e+02, 4.08000000e+02, 1.76546701e+00, 6.00000000e+00],\n",
       "       [2.94000000e+02, 4.04000000e+02, 1.83549442e+00, 6.00000000e+00],\n",
       "       [3.70000000e+02, 3.92000000e+02, 1.89281010e+00, 8.00000000e+00],\n",
       "       [3.60000000e+02, 3.90000000e+02, 1.91114756e+00, 8.00000000e+00],\n",
       "       [3.83000000e+02, 3.99000000e+02, 1.96276298e+00, 4.00000000e+00],\n",
       "       [3.18000000e+02, 4.13000000e+02, 1.96782820e+00, 5.00000000e+00],\n",
       "       [3.75000000e+02, 4.23000000e+02, 1.97637742e+00, 1.20000000e+01],\n",
       "       [3.95000000e+02, 4.07000000e+02, 1.98696226e+00, 5.00000000e+00],\n",
       "       [3.76000000e+02, 3.97000000e+02, 2.08022562e+00, 8.00000000e+00],\n",
       "       [2.93000000e+02, 3.39000000e+02, 2.09682765e+00, 4.00000000e+00],\n",
       "       [3.89000000e+02, 4.37000000e+02, 2.12809178e+00, 1.50000000e+01],\n",
       "       [9.90000000e+01, 4.34000000e+02, 2.20259907e+00, 6.00000000e+00],\n",
       "       [1.77000000e+02, 4.21000000e+02, 2.21275829e+00, 5.00000000e+00],\n",
       "       [1.02000000e+02, 4.16000000e+02, 2.23103851e+00, 4.00000000e+00],\n",
       "       [2.85000000e+02, 4.24000000e+02, 2.24678937e+00, 6.00000000e+00],\n",
       "       [2.95000000e+02, 3.25000000e+02, 2.29087702e+00, 4.00000000e+00],\n",
       "       [3.54000000e+02, 4.31000000e+02, 2.29911216e+00, 1.40000000e+01],\n",
       "       [3.77000000e+02, 3.79000000e+02, 2.32118198e+00, 6.00000000e+00],\n",
       "       [1.62000000e+02, 1.98000000e+02, 2.39483626e+00, 2.00000000e+00],\n",
       "       [4.15000000e+02, 4.28000000e+02, 2.48221307e+00, 9.00000000e+00],\n",
       "       [3.59000000e+02, 4.25000000e+02, 2.49440994e+00, 1.80000000e+01],\n",
       "       [4.30000000e+02, 4.36000000e+02, 2.57199663e+00, 9.00000000e+00],\n",
       "       [3.43000000e+02, 4.42000000e+02, 2.75518394e+00, 7.00000000e+00],\n",
       "       [4.14000000e+02, 4.38000000e+02, 2.77786386e+00, 1.20000000e+01],\n",
       "       [4.00000000e+02, 4.20000000e+02, 2.84590361e+00, 1.70000000e+01],\n",
       "       [4.02000000e+02, 4.27000000e+02, 3.01873300e+00, 1.40000000e+01],\n",
       "       [3.12000000e+02, 4.60000000e+02, 3.11500547e+00, 1.60000000e+01],\n",
       "       [3.71000000e+02, 4.40000000e+02, 3.24993785e+00, 7.00000000e+00],\n",
       "       [3.98000000e+02, 4.35000000e+02, 3.33980860e+00, 8.00000000e+00],\n",
       "       [4.09000000e+02, 4.39000000e+02, 3.34066681e+00, 7.00000000e+00],\n",
       "       [4.19000000e+02, 4.26000000e+02, 3.43241956e+00, 4.00000000e+00],\n",
       "       [4.17000000e+02, 4.48000000e+02, 3.55369415e+00, 7.00000000e+00],\n",
       "       [4.29000000e+02, 4.62000000e+02, 3.77851952e+00, 1.20000000e+01],\n",
       "       [4.03000000e+02, 4.50000000e+02, 3.79687729e+00, 8.00000000e+00],\n",
       "       [3.93000000e+02, 4.64000000e+02, 4.00869094e+00, 9.00000000e+00],\n",
       "       [4.10000000e+02, 4.44000000e+02, 4.02554502e+00, 1.20000000e+01],\n",
       "       [3.96000000e+02, 4.33000000e+02, 4.02918966e+00, 1.00000000e+01],\n",
       "       [3.94000000e+02, 4.56000000e+02, 4.39547376e+00, 1.70000000e+01],\n",
       "       [4.41000000e+02, 4.51000000e+02, 4.60920638e+00, 2.60000000e+01],\n",
       "       [4.43000000e+02, 4.55000000e+02, 4.61298656e+00, 2.60000000e+01],\n",
       "       [1.13000000e+02, 4.32000000e+02, 4.63521972e+00, 8.00000000e+00],\n",
       "       [4.22000000e+02, 4.54000000e+02, 4.70022580e+00, 1.10000000e+01],\n",
       "       [4.49000000e+02, 4.76000000e+02, 5.03677026e+00, 1.70000000e+01],\n",
       "       [4.52000000e+02, 4.58000000e+02, 5.45565949e+00, 1.80000000e+01],\n",
       "       [4.46000000e+02, 4.59000000e+02, 5.65580387e+00, 2.30000000e+01],\n",
       "       [4.45000000e+02, 4.53000000e+02, 6.28892743e+00, 1.70000000e+01],\n",
       "       [4.57000000e+02, 4.65000000e+02, 6.35533102e+00, 1.10000000e+01],\n",
       "       [4.68000000e+02, 4.75000000e+02, 6.98154877e+00, 1.60000000e+01],\n",
       "       [4.70000000e+02, 4.79000000e+02, 7.26135589e+00, 3.50000000e+01],\n",
       "       [4.61000000e+02, 4.81000000e+02, 7.70815803e+00, 2.70000000e+01],\n",
       "       [4.63000000e+02, 4.80000000e+02, 8.10117309e+00, 2.50000000e+01],\n",
       "       [4.47000000e+02, 4.72000000e+02, 8.43544247e+00, 2.20000000e+01],\n",
       "       [4.71000000e+02, 4.82000000e+02, 8.46084293e+00, 2.60000000e+01],\n",
       "       [4.74000000e+02, 4.86000000e+02, 9.46946552e+00, 4.80000000e+01],\n",
       "       [4.67000000e+02, 4.73000000e+02, 1.07874940e+01, 3.80000000e+01],\n",
       "       [4.66000000e+02, 4.77000000e+02, 1.08574984e+01, 2.40000000e+01],\n",
       "       [4.69000000e+02, 4.78000000e+02, 1.19935982e+01, 2.70000000e+01],\n",
       "       [4.83000000e+02, 4.91000000e+02, 1.59677869e+01, 6.20000000e+01],\n",
       "       [4.85000000e+02, 4.88000000e+02, 1.67376891e+01, 7.30000000e+01],\n",
       "       [4.87000000e+02, 4.90000000e+02, 1.91393056e+01, 5.00000000e+01],\n",
       "       [4.84000000e+02, 4.93000000e+02, 2.06366697e+01, 1.00000000e+02],\n",
       "       [4.89000000e+02, 4.92000000e+02, 2.14641365e+01, 1.00000000e+02],\n",
       "       [4.94000000e+02, 4.95000000e+02, 7.78328182e+01, 1.50000000e+02],\n",
       "       [4.96000000e+02, 4.97000000e+02, 2.21190228e+02, 2.50000000e+02]])"
      ]
     },
     "execution_count": 200,
     "metadata": {},
     "output_type": "execute_result"
    }
   ],
   "source": [
    "import scipy.cluster.hierarchy as shc\n",
    "%matplotlib inline\n",
    "import matplotlib.pyplot as plt\n",
    "import numpy as np\n",
    "c1 = (shc.linkage(df.values, method='ward'))\n",
    "c1"
   ]
  },
  {
   "cell_type": "markdown",
   "metadata": {},
   "source": [
    "Use ward as linkage metric and distance as Eucledian"
   ]
  },
  {
   "cell_type": "code",
   "execution_count": null,
   "metadata": {},
   "outputs": [],
   "source": []
  },
  {
   "cell_type": "code",
   "execution_count": null,
   "metadata": {},
   "outputs": [],
   "source": []
  },
  {
   "cell_type": "markdown",
   "metadata": {},
   "source": [
    "### 12. Plot the dendrogram for the consolidated dataframe"
   ]
  },
  {
   "cell_type": "code",
   "execution_count": 198,
   "metadata": {},
   "outputs": [
    {
     "data": {
      "image/png": "[encoded data removed]",
      "text/plain": [
       "<Figure size 720x504 with 1 Axes>"
      ]
     },
     "metadata": {
      "needs_background": "light"
     },
     "output_type": "display_data"
    }
   ],
   "source": [
    "plt.figure(figsize=(10,7))\n",
    "plt.title('Dendogram')\n",
    "dend = shc.dendrogram(shc.linkage(df.values, method='ward'))"
   ]
  },
  {
   "cell_type": "code",
   "execution_count": null,
   "metadata": {},
   "outputs": [],
   "source": []
  },
  {
   "cell_type": "code",
   "execution_count": null,
   "metadata": {},
   "outputs": [],
   "source": []
  },
  {
   "cell_type": "markdown",
   "metadata": {},
   "source": [
    "### 13. Recreate the dendrogram for last 12 merged clusters "
   ]
  },
  {
   "cell_type": "code",
   "execution_count": 201,
   "metadata": {},
   "outputs": [
    {
     "data": {
      "image/png": "[encoded data removed]",
      "text/plain": [
       "<Figure size 720x504 with 1 Axes>"
      ]
     },
     "metadata": {
      "needs_background": "light"
     },
     "output_type": "display_data"
    }
   ],
   "source": [
    "plt.figure(figsize=(10,7))\n",
    "plt.title('Dendogram')\n",
    "dend = shc.dendrogram(shc.linkage(df.values, method='ward'),truncate_mode='lastp',p = 12)"
   ]
  },
  {
   "cell_type": "markdown",
   "metadata": {},
   "source": [
    "Hint: Use truncate_mode='lastp' attribute in dendrogram function to arrive at dendrogram "
   ]
  },
  {
   "cell_type": "code",
   "execution_count": null,
   "metadata": {},
   "outputs": [],
   "source": []
  },
  {
   "cell_type": "code",
   "execution_count": null,
   "metadata": {},
   "outputs": [],
   "source": []
  },
  {
   "cell_type": "markdown",
   "metadata": {},
   "source": [
    "### 14. Using this distance measure and AgglomerativeClustering() function to cluster the data into 3 different groups"
   ]
  },
  {
   "cell_type": "code",
   "execution_count": 206,
   "metadata": {},
   "outputs": [
    {
     "data": {
      "text/html": [
       "<div>\n",
       "<style scoped>\n",
       "    .dataframe tbody tr th:only-of-type {\n",
       "        vertical-align: middle;\n",
       "    }\n",
       "\n",
       "    .dataframe tbody tr th {\n",
       "        vertical-align: top;\n",
       "    }\n",
       "\n",
       "    .dataframe thead th {\n",
       "        text-align: right;\n",
       "    }\n",
       "</style>\n",
       "<table border=\"1\" class=\"dataframe\">\n",
       "  <thead>\n",
       "    <tr style=\"text-align: right;\">\n",
       "      <th></th>\n",
       "      <th>0</th>\n",
       "      <th>1</th>\n",
       "      <th>Cluster_3</th>\n",
       "    </tr>\n",
       "  </thead>\n",
       "  <tbody>\n",
       "    <tr>\n",
       "      <th>0</th>\n",
       "      <td>11.950450</td>\n",
       "      <td>0.538658</td>\n",
       "      <td>0</td>\n",
       "    </tr>\n",
       "    <tr>\n",
       "      <th>1</th>\n",
       "      <td>8.182985</td>\n",
       "      <td>0.894517</td>\n",
       "      <td>0</td>\n",
       "    </tr>\n",
       "    <tr>\n",
       "      <th>2</th>\n",
       "      <td>10.098920</td>\n",
       "      <td>1.968508</td>\n",
       "      <td>0</td>\n",
       "    </tr>\n",
       "    <tr>\n",
       "      <th>3</th>\n",
       "      <td>7.286074</td>\n",
       "      <td>1.903814</td>\n",
       "      <td>0</td>\n",
       "    </tr>\n",
       "    <tr>\n",
       "      <th>4</th>\n",
       "      <td>9.608745</td>\n",
       "      <td>-0.523516</td>\n",
       "      <td>0</td>\n",
       "    </tr>\n",
       "  </tbody>\n",
       "</table>\n",
       "</div>"
      ],
      "text/plain": [
       "           0         1  Cluster_3\n",
       "0  11.950450  0.538658          0\n",
       "1   8.182985  0.894517          0\n",
       "2  10.098920  1.968508          0\n",
       "3   7.286074  1.903814          0\n",
       "4   9.608745 -0.523516          0"
      ]
     },
     "execution_count": 206,
     "metadata": {},
     "output_type": "execute_result"
    }
   ],
   "source": [
    "from sklearn.cluster import AgglomerativeClustering\n",
    "ac = AgglomerativeClustering(n_clusters=3)\n",
    "df['Cluster_3'] = ac.fit_predict(df.values)\n",
    "df.head()"
   ]
  },
  {
   "cell_type": "markdown",
   "metadata": {},
   "source": [
    "### 15. Use matplotlib to visually observe the clusters in 2D space "
   ]
  },
  {
   "cell_type": "code",
   "execution_count": 208,
   "metadata": {},
   "outputs": [
    {
     "data": {
      "text/plain": [
       "<matplotlib.axes._subplots.AxesSubplot at 0x223098c8a90>"
      ]
     },
     "execution_count": 208,
     "metadata": {},
     "output_type": "execute_result"
    },
    {
     "data": {
      "image/png": "[encoded data removed]",
      "text/plain": [
       "<Figure size 842.4x595.44 with 1 Axes>"
      ]
     },
     "metadata": {},
     "output_type": "display_data"
    }
   ],
   "source": [
    "sns.set(rc={'figure.figsize':(11.7,8.27)})\n",
    "sns.scatterplot(x=df[0], y=df[1], hue=df['Cluster_3'], palette='gist_rainbow')"
   ]
  },
  {
   "cell_type": "code",
   "execution_count": null,
   "metadata": {},
   "outputs": [],
   "source": []
  }
 ],
 "metadata": {
  "kernelspec": {
   "display_name": "Python 3",
   "language": "python",
   "name": "python3"
  },
  "language_info": {
   "codemirror_mode": {
    "name": "ipython",
    "version": 3
   },
   "file_extension": ".py",
   "mimetype": "text/x-python",
   "name": "python",
   "nbconvert_exporter": "python",
   "pygments_lexer": "ipython3",
   "version": "3.7.3"
  }
 },
 "nbformat": 4,
 "nbformat_minor": 2
}
