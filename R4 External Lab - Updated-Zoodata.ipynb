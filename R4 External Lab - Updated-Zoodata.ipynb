{
 "cells": [
  {
   "cell_type": "code",
   "execution_count": 2,
   "metadata": {},
   "outputs": [],
   "source": [
    "# Import important library\n",
    "import numpy as np\n",
    "import pandas as pd\n",
    "import matplotlib.pyplot as plt\n",
    "import seaborn as sns\n",
    "%matplotlib inline\n",
    "import warnings\n",
    "warnings.filterwarnings('ignore')"
   ]
  },
  {
   "cell_type": "code",
   "execution_count": null,
   "metadata": {},
   "outputs": [],
   "source": []
  },
  {
   "cell_type": "markdown",
   "metadata": {},
   "source": [
    "### Q1 Read the input file ( zoo data CSV ) and check the data dimension"
   ]
  },
  {
   "cell_type": "code",
   "execution_count": 3,
   "metadata": {},
   "outputs": [
    {
     "data": {
      "text/html": [
       "<div>\n",
       "<style scoped>\n",
       "    .dataframe tbody tr th:only-of-type {\n",
       "        vertical-align: middle;\n",
       "    }\n",
       "\n",
       "    .dataframe tbody tr th {\n",
       "        vertical-align: top;\n",
       "    }\n",
       "\n",
       "    .dataframe thead th {\n",
       "        text-align: right;\n",
       "    }\n",
       "</style>\n",
       "<table border=\"1\" class=\"dataframe\">\n",
       "  <thead>\n",
       "    <tr style=\"text-align: right;\">\n",
       "      <th></th>\n",
       "      <th>animal_name</th>\n",
       "      <th>hair</th>\n",
       "      <th>feathers</th>\n",
       "      <th>eggs</th>\n",
       "      <th>milk</th>\n",
       "      <th>airborne</th>\n",
       "      <th>aquatic</th>\n",
       "      <th>predator</th>\n",
       "      <th>toothed</th>\n",
       "      <th>backbone</th>\n",
       "      <th>breathes</th>\n",
       "      <th>venomous</th>\n",
       "      <th>fins</th>\n",
       "      <th>legs</th>\n",
       "      <th>tail</th>\n",
       "      <th>domestic</th>\n",
       "      <th>catsize</th>\n",
       "      <th>class_type</th>\n",
       "    </tr>\n",
       "  </thead>\n",
       "  <tbody>\n",
       "    <tr>\n",
       "      <th>0</th>\n",
       "      <td>aardvark</td>\n",
       "      <td>1</td>\n",
       "      <td>0</td>\n",
       "      <td>0</td>\n",
       "      <td>1</td>\n",
       "      <td>0</td>\n",
       "      <td>0</td>\n",
       "      <td>1</td>\n",
       "      <td>1</td>\n",
       "      <td>1</td>\n",
       "      <td>1</td>\n",
       "      <td>0</td>\n",
       "      <td>0</td>\n",
       "      <td>4</td>\n",
       "      <td>0</td>\n",
       "      <td>0</td>\n",
       "      <td>1</td>\n",
       "      <td>1</td>\n",
       "    </tr>\n",
       "    <tr>\n",
       "      <th>1</th>\n",
       "      <td>antelope</td>\n",
       "      <td>1</td>\n",
       "      <td>0</td>\n",
       "      <td>0</td>\n",
       "      <td>1</td>\n",
       "      <td>0</td>\n",
       "      <td>0</td>\n",
       "      <td>0</td>\n",
       "      <td>1</td>\n",
       "      <td>1</td>\n",
       "      <td>1</td>\n",
       "      <td>0</td>\n",
       "      <td>0</td>\n",
       "      <td>4</td>\n",
       "      <td>1</td>\n",
       "      <td>0</td>\n",
       "      <td>1</td>\n",
       "      <td>1</td>\n",
       "    </tr>\n",
       "    <tr>\n",
       "      <th>2</th>\n",
       "      <td>bass</td>\n",
       "      <td>0</td>\n",
       "      <td>0</td>\n",
       "      <td>1</td>\n",
       "      <td>0</td>\n",
       "      <td>0</td>\n",
       "      <td>1</td>\n",
       "      <td>1</td>\n",
       "      <td>1</td>\n",
       "      <td>1</td>\n",
       "      <td>0</td>\n",
       "      <td>0</td>\n",
       "      <td>1</td>\n",
       "      <td>0</td>\n",
       "      <td>1</td>\n",
       "      <td>0</td>\n",
       "      <td>0</td>\n",
       "      <td>4</td>\n",
       "    </tr>\n",
       "    <tr>\n",
       "      <th>3</th>\n",
       "      <td>bear</td>\n",
       "      <td>1</td>\n",
       "      <td>0</td>\n",
       "      <td>0</td>\n",
       "      <td>1</td>\n",
       "      <td>0</td>\n",
       "      <td>0</td>\n",
       "      <td>1</td>\n",
       "      <td>1</td>\n",
       "      <td>1</td>\n",
       "      <td>1</td>\n",
       "      <td>0</td>\n",
       "      <td>0</td>\n",
       "      <td>4</td>\n",
       "      <td>0</td>\n",
       "      <td>0</td>\n",
       "      <td>1</td>\n",
       "      <td>1</td>\n",
       "    </tr>\n",
       "    <tr>\n",
       "      <th>4</th>\n",
       "      <td>boar</td>\n",
       "      <td>1</td>\n",
       "      <td>0</td>\n",
       "      <td>0</td>\n",
       "      <td>1</td>\n",
       "      <td>0</td>\n",
       "      <td>0</td>\n",
       "      <td>1</td>\n",
       "      <td>1</td>\n",
       "      <td>1</td>\n",
       "      <td>1</td>\n",
       "      <td>0</td>\n",
       "      <td>0</td>\n",
       "      <td>4</td>\n",
       "      <td>1</td>\n",
       "      <td>0</td>\n",
       "      <td>1</td>\n",
       "      <td>1</td>\n",
       "    </tr>\n",
       "  </tbody>\n",
       "</table>\n",
       "</div>"
      ],
      "text/plain": [
       "  animal_name  hair  feathers  eggs  milk  airborne  aquatic  predator  \\\n",
       "0    aardvark     1         0     0     1         0        0         1   \n",
       "1    antelope     1         0     0     1         0        0         0   \n",
       "2        bass     0         0     1     0         0        1         1   \n",
       "3        bear     1         0     0     1         0        0         1   \n",
       "4        boar     1         0     0     1         0        0         1   \n",
       "\n",
       "   toothed  backbone  breathes  venomous  fins  legs  tail  domestic  catsize  \\\n",
       "0        1         1         1         0     0     4     0         0        1   \n",
       "1        1         1         1         0     0     4     1         0        1   \n",
       "2        1         1         0         0     1     0     1         0        0   \n",
       "3        1         1         1         0     0     4     0         0        1   \n",
       "4        1         1         1         0     0     4     1         0        1   \n",
       "\n",
       "   class_type  \n",
       "0           1  \n",
       "1           1  \n",
       "2           4  \n",
       "3           1  \n",
       "4           1  "
      ]
     },
     "execution_count": 3,
     "metadata": {},
     "output_type": "execute_result"
    }
   ],
   "source": [
    "data = pd.read_csv('zoo.csv')\n",
    "data.head()"
   ]
  },
  {
   "cell_type": "markdown",
   "metadata": {},
   "source": [
    "### Q2. Drop animal_name \n"
   ]
  },
  {
   "cell_type": "code",
   "execution_count": 4,
   "metadata": {},
   "outputs": [
    {
     "data": {
      "text/html": [
       "<div>\n",
       "<style scoped>\n",
       "    .dataframe tbody tr th:only-of-type {\n",
       "        vertical-align: middle;\n",
       "    }\n",
       "\n",
       "    .dataframe tbody tr th {\n",
       "        vertical-align: top;\n",
       "    }\n",
       "\n",
       "    .dataframe thead th {\n",
       "        text-align: right;\n",
       "    }\n",
       "</style>\n",
       "<table border=\"1\" class=\"dataframe\">\n",
       "  <thead>\n",
       "    <tr style=\"text-align: right;\">\n",
       "      <th></th>\n",
       "      <th>hair</th>\n",
       "      <th>feathers</th>\n",
       "      <th>eggs</th>\n",
       "      <th>milk</th>\n",
       "      <th>airborne</th>\n",
       "      <th>aquatic</th>\n",
       "      <th>predator</th>\n",
       "      <th>toothed</th>\n",
       "      <th>backbone</th>\n",
       "      <th>breathes</th>\n",
       "      <th>venomous</th>\n",
       "      <th>fins</th>\n",
       "      <th>legs</th>\n",
       "      <th>tail</th>\n",
       "      <th>domestic</th>\n",
       "      <th>catsize</th>\n",
       "      <th>class_type</th>\n",
       "    </tr>\n",
       "  </thead>\n",
       "  <tbody>\n",
       "    <tr>\n",
       "      <th>0</th>\n",
       "      <td>1</td>\n",
       "      <td>0</td>\n",
       "      <td>0</td>\n",
       "      <td>1</td>\n",
       "      <td>0</td>\n",
       "      <td>0</td>\n",
       "      <td>1</td>\n",
       "      <td>1</td>\n",
       "      <td>1</td>\n",
       "      <td>1</td>\n",
       "      <td>0</td>\n",
       "      <td>0</td>\n",
       "      <td>4</td>\n",
       "      <td>0</td>\n",
       "      <td>0</td>\n",
       "      <td>1</td>\n",
       "      <td>1</td>\n",
       "    </tr>\n",
       "    <tr>\n",
       "      <th>1</th>\n",
       "      <td>1</td>\n",
       "      <td>0</td>\n",
       "      <td>0</td>\n",
       "      <td>1</td>\n",
       "      <td>0</td>\n",
       "      <td>0</td>\n",
       "      <td>0</td>\n",
       "      <td>1</td>\n",
       "      <td>1</td>\n",
       "      <td>1</td>\n",
       "      <td>0</td>\n",
       "      <td>0</td>\n",
       "      <td>4</td>\n",
       "      <td>1</td>\n",
       "      <td>0</td>\n",
       "      <td>1</td>\n",
       "      <td>1</td>\n",
       "    </tr>\n",
       "    <tr>\n",
       "      <th>2</th>\n",
       "      <td>0</td>\n",
       "      <td>0</td>\n",
       "      <td>1</td>\n",
       "      <td>0</td>\n",
       "      <td>0</td>\n",
       "      <td>1</td>\n",
       "      <td>1</td>\n",
       "      <td>1</td>\n",
       "      <td>1</td>\n",
       "      <td>0</td>\n",
       "      <td>0</td>\n",
       "      <td>1</td>\n",
       "      <td>0</td>\n",
       "      <td>1</td>\n",
       "      <td>0</td>\n",
       "      <td>0</td>\n",
       "      <td>4</td>\n",
       "    </tr>\n",
       "    <tr>\n",
       "      <th>3</th>\n",
       "      <td>1</td>\n",
       "      <td>0</td>\n",
       "      <td>0</td>\n",
       "      <td>1</td>\n",
       "      <td>0</td>\n",
       "      <td>0</td>\n",
       "      <td>1</td>\n",
       "      <td>1</td>\n",
       "      <td>1</td>\n",
       "      <td>1</td>\n",
       "      <td>0</td>\n",
       "      <td>0</td>\n",
       "      <td>4</td>\n",
       "      <td>0</td>\n",
       "      <td>0</td>\n",
       "      <td>1</td>\n",
       "      <td>1</td>\n",
       "    </tr>\n",
       "    <tr>\n",
       "      <th>4</th>\n",
       "      <td>1</td>\n",
       "      <td>0</td>\n",
       "      <td>0</td>\n",
       "      <td>1</td>\n",
       "      <td>0</td>\n",
       "      <td>0</td>\n",
       "      <td>1</td>\n",
       "      <td>1</td>\n",
       "      <td>1</td>\n",
       "      <td>1</td>\n",
       "      <td>0</td>\n",
       "      <td>0</td>\n",
       "      <td>4</td>\n",
       "      <td>1</td>\n",
       "      <td>0</td>\n",
       "      <td>1</td>\n",
       "      <td>1</td>\n",
       "    </tr>\n",
       "  </tbody>\n",
       "</table>\n",
       "</div>"
      ],
      "text/plain": [
       "   hair  feathers  eggs  milk  airborne  aquatic  predator  toothed  backbone  \\\n",
       "0     1         0     0     1         0        0         1        1         1   \n",
       "1     1         0     0     1         0        0         0        1         1   \n",
       "2     0         0     1     0         0        1         1        1         1   \n",
       "3     1         0     0     1         0        0         1        1         1   \n",
       "4     1         0     0     1         0        0         1        1         1   \n",
       "\n",
       "   breathes  venomous  fins  legs  tail  domestic  catsize  class_type  \n",
       "0         1         0     0     4     0         0        1           1  \n",
       "1         1         0     0     4     1         0        1           1  \n",
       "2         0         0     1     0     1         0        0           4  \n",
       "3         1         0     0     4     0         0        1           1  \n",
       "4         1         0     0     4     1         0        1           1  "
      ]
     },
     "execution_count": 4,
     "metadata": {},
     "output_type": "execute_result"
    }
   ],
   "source": [
    "df = data.drop(labels = 'animal_name',axis = 1)\n",
    "df.head()"
   ]
  },
  {
   "cell_type": "markdown",
   "metadata": {},
   "source": [
    "### Q3 Check distribution of target variable"
   ]
  },
  {
   "cell_type": "code",
   "execution_count": 5,
   "metadata": {},
   "outputs": [
    {
     "data": {
      "text/plain": [
       "<matplotlib.axes._subplots.AxesSubplot at 0x1af6a230550>"
      ]
     },
     "execution_count": 5,
     "metadata": {},
     "output_type": "execute_result"
    },
    {
     "data": {
      "image/png": "[encoded data removed]",
      "text/plain": [
       "<Figure size 432x288 with 1 Axes>"
      ]
     },
     "metadata": {
      "needs_background": "light"
     },
     "output_type": "display_data"
    }
   ],
   "source": [
    "#sns.countplot(df['class_type'].value_counts())\n",
    "df['class_type'].value_counts().plot(kind = 'Bar')"
   ]
  },
  {
   "cell_type": "markdown",
   "metadata": {},
   "source": [
    "### Q4. Check for missing values"
   ]
  },
  {
   "cell_type": "code",
   "execution_count": 8,
   "metadata": {},
   "outputs": [
    {
     "data": {
      "text/plain": [
       "hair          0\n",
       "feathers      0\n",
       "eggs          0\n",
       "milk          0\n",
       "airborne      0\n",
       "aquatic       0\n",
       "predator      0\n",
       "toothed       0\n",
       "backbone      0\n",
       "breathes      0\n",
       "venomous      0\n",
       "fins          0\n",
       "legs          0\n",
       "tail          0\n",
       "domestic      0\n",
       "catsize       0\n",
       "class_type    0\n",
       "dtype: int64"
      ]
     },
     "execution_count": 8,
     "metadata": {},
     "output_type": "execute_result"
    }
   ],
   "source": [
    "df.isna().sum()"
   ]
  },
  {
   "cell_type": "markdown",
   "metadata": {},
   "source": [
    "### Q5. Import class file and understand the data"
   ]
  },
  {
   "cell_type": "code",
   "execution_count": 9,
   "metadata": {},
   "outputs": [
    {
     "data": {
      "text/html": [
       "<div>\n",
       "<style scoped>\n",
       "    .dataframe tbody tr th:only-of-type {\n",
       "        vertical-align: middle;\n",
       "    }\n",
       "\n",
       "    .dataframe tbody tr th {\n",
       "        vertical-align: top;\n",
       "    }\n",
       "\n",
       "    .dataframe thead th {\n",
       "        text-align: right;\n",
       "    }\n",
       "</style>\n",
       "<table border=\"1\" class=\"dataframe\">\n",
       "  <thead>\n",
       "    <tr style=\"text-align: right;\">\n",
       "      <th></th>\n",
       "      <th>Class_Number</th>\n",
       "      <th>Number_Of_Animal_Species_In_Class</th>\n",
       "      <th>Class_Type</th>\n",
       "      <th>Animal_Names</th>\n",
       "    </tr>\n",
       "  </thead>\n",
       "  <tbody>\n",
       "    <tr>\n",
       "      <th>0</th>\n",
       "      <td>1</td>\n",
       "      <td>41</td>\n",
       "      <td>Mammal</td>\n",
       "      <td>aardvark, antelope, bear, boar, buffalo, calf,...</td>\n",
       "    </tr>\n",
       "    <tr>\n",
       "      <th>1</th>\n",
       "      <td>2</td>\n",
       "      <td>20</td>\n",
       "      <td>Bird</td>\n",
       "      <td>chicken, crow, dove, duck, flamingo, gull, haw...</td>\n",
       "    </tr>\n",
       "    <tr>\n",
       "      <th>2</th>\n",
       "      <td>3</td>\n",
       "      <td>5</td>\n",
       "      <td>Reptile</td>\n",
       "      <td>pitviper, seasnake, slowworm, tortoise, tuatara</td>\n",
       "    </tr>\n",
       "    <tr>\n",
       "      <th>3</th>\n",
       "      <td>4</td>\n",
       "      <td>13</td>\n",
       "      <td>Fish</td>\n",
       "      <td>bass, carp, catfish, chub, dogfish, haddock, h...</td>\n",
       "    </tr>\n",
       "    <tr>\n",
       "      <th>4</th>\n",
       "      <td>5</td>\n",
       "      <td>4</td>\n",
       "      <td>Amphibian</td>\n",
       "      <td>frog, frog, newt, toad</td>\n",
       "    </tr>\n",
       "    <tr>\n",
       "      <th>5</th>\n",
       "      <td>6</td>\n",
       "      <td>8</td>\n",
       "      <td>Bug</td>\n",
       "      <td>flea, gnat, honeybee, housefly, ladybird, moth...</td>\n",
       "    </tr>\n",
       "    <tr>\n",
       "      <th>6</th>\n",
       "      <td>7</td>\n",
       "      <td>10</td>\n",
       "      <td>Invertebrate</td>\n",
       "      <td>clam, crab, crayfish, lobster, octopus, scorpi...</td>\n",
       "    </tr>\n",
       "  </tbody>\n",
       "</table>\n",
       "</div>"
      ],
      "text/plain": [
       "   Class_Number  Number_Of_Animal_Species_In_Class    Class_Type  \\\n",
       "0             1                                 41        Mammal   \n",
       "1             2                                 20          Bird   \n",
       "2             3                                  5       Reptile   \n",
       "3             4                                 13          Fish   \n",
       "4             5                                  4     Amphibian   \n",
       "5             6                                  8           Bug   \n",
       "6             7                                 10  Invertebrate   \n",
       "\n",
       "                                        Animal_Names  \n",
       "0  aardvark, antelope, bear, boar, buffalo, calf,...  \n",
       "1  chicken, crow, dove, duck, flamingo, gull, haw...  \n",
       "2    pitviper, seasnake, slowworm, tortoise, tuatara  \n",
       "3  bass, carp, catfish, chub, dogfish, haddock, h...  \n",
       "4                             frog, frog, newt, toad  \n",
       "5  flea, gnat, honeybee, housefly, ladybird, moth...  \n",
       "6  clam, crab, crayfish, lobster, octopus, scorpi...  "
      ]
     },
     "execution_count": 9,
     "metadata": {},
     "output_type": "execute_result"
    }
   ],
   "source": [
    "demo = pd.read_csv('class.csv')\n",
    "demo"
   ]
  },
  {
   "cell_type": "markdown",
   "metadata": {},
   "source": [
    "### Q6. Standardize the data "
   ]
  },
  {
   "cell_type": "code",
   "execution_count": 16,
   "metadata": {},
   "outputs": [
    {
     "data": {
      "text/html": [
       "<div>\n",
       "<style scoped>\n",
       "    .dataframe tbody tr th:only-of-type {\n",
       "        vertical-align: middle;\n",
       "    }\n",
       "\n",
       "    .dataframe tbody tr th {\n",
       "        vertical-align: top;\n",
       "    }\n",
       "\n",
       "    .dataframe thead th {\n",
       "        text-align: right;\n",
       "    }\n",
       "</style>\n",
       "<table border=\"1\" class=\"dataframe\">\n",
       "  <thead>\n",
       "    <tr style=\"text-align: right;\">\n",
       "      <th></th>\n",
       "      <th>hair</th>\n",
       "      <th>feathers</th>\n",
       "      <th>eggs</th>\n",
       "      <th>milk</th>\n",
       "      <th>airborne</th>\n",
       "      <th>aquatic</th>\n",
       "      <th>predator</th>\n",
       "      <th>toothed</th>\n",
       "      <th>backbone</th>\n",
       "      <th>breathes</th>\n",
       "      <th>venomous</th>\n",
       "      <th>fins</th>\n",
       "      <th>legs</th>\n",
       "      <th>tail</th>\n",
       "      <th>domestic</th>\n",
       "      <th>catsize</th>\n",
       "    </tr>\n",
       "  </thead>\n",
       "  <tbody>\n",
       "    <tr>\n",
       "      <th>0</th>\n",
       "      <td>1.161395</td>\n",
       "      <td>-0.496904</td>\n",
       "      <td>-1.185227</td>\n",
       "      <td>1.209717</td>\n",
       "      <td>-0.558291</td>\n",
       "      <td>-0.744208</td>\n",
       "      <td>0.896421</td>\n",
       "      <td>0.809776</td>\n",
       "      <td>0.46569</td>\n",
       "      <td>0.512348</td>\n",
       "      <td>-0.293294</td>\n",
       "      <td>-0.449868</td>\n",
       "      <td>0.572540</td>\n",
       "      <td>-1.698416</td>\n",
       "      <td>-0.384353</td>\n",
       "      <td>1.138180</td>\n",
       "    </tr>\n",
       "    <tr>\n",
       "      <th>1</th>\n",
       "      <td>1.161395</td>\n",
       "      <td>-0.496904</td>\n",
       "      <td>-1.185227</td>\n",
       "      <td>1.209717</td>\n",
       "      <td>-0.558291</td>\n",
       "      <td>-0.744208</td>\n",
       "      <td>-1.115547</td>\n",
       "      <td>0.809776</td>\n",
       "      <td>0.46569</td>\n",
       "      <td>0.512348</td>\n",
       "      <td>-0.293294</td>\n",
       "      <td>-0.449868</td>\n",
       "      <td>0.572540</td>\n",
       "      <td>0.588784</td>\n",
       "      <td>-0.384353</td>\n",
       "      <td>1.138180</td>\n",
       "    </tr>\n",
       "    <tr>\n",
       "      <th>2</th>\n",
       "      <td>-0.861034</td>\n",
       "      <td>-0.496904</td>\n",
       "      <td>0.843721</td>\n",
       "      <td>-0.826640</td>\n",
       "      <td>-0.558291</td>\n",
       "      <td>1.343710</td>\n",
       "      <td>0.896421</td>\n",
       "      <td>0.809776</td>\n",
       "      <td>0.46569</td>\n",
       "      <td>-1.951800</td>\n",
       "      <td>-0.293294</td>\n",
       "      <td>2.222876</td>\n",
       "      <td>-1.404435</td>\n",
       "      <td>0.588784</td>\n",
       "      <td>-0.384353</td>\n",
       "      <td>-0.878595</td>\n",
       "    </tr>\n",
       "    <tr>\n",
       "      <th>3</th>\n",
       "      <td>1.161395</td>\n",
       "      <td>-0.496904</td>\n",
       "      <td>-1.185227</td>\n",
       "      <td>1.209717</td>\n",
       "      <td>-0.558291</td>\n",
       "      <td>-0.744208</td>\n",
       "      <td>0.896421</td>\n",
       "      <td>0.809776</td>\n",
       "      <td>0.46569</td>\n",
       "      <td>0.512348</td>\n",
       "      <td>-0.293294</td>\n",
       "      <td>-0.449868</td>\n",
       "      <td>0.572540</td>\n",
       "      <td>-1.698416</td>\n",
       "      <td>-0.384353</td>\n",
       "      <td>1.138180</td>\n",
       "    </tr>\n",
       "    <tr>\n",
       "      <th>4</th>\n",
       "      <td>1.161395</td>\n",
       "      <td>-0.496904</td>\n",
       "      <td>-1.185227</td>\n",
       "      <td>1.209717</td>\n",
       "      <td>-0.558291</td>\n",
       "      <td>-0.744208</td>\n",
       "      <td>0.896421</td>\n",
       "      <td>0.809776</td>\n",
       "      <td>0.46569</td>\n",
       "      <td>0.512348</td>\n",
       "      <td>-0.293294</td>\n",
       "      <td>-0.449868</td>\n",
       "      <td>0.572540</td>\n",
       "      <td>0.588784</td>\n",
       "      <td>-0.384353</td>\n",
       "      <td>1.138180</td>\n",
       "    </tr>\n",
       "  </tbody>\n",
       "</table>\n",
       "</div>"
      ],
      "text/plain": [
       "       hair  feathers      eggs      milk  airborne   aquatic  predator  \\\n",
       "0  1.161395 -0.496904 -1.185227  1.209717 -0.558291 -0.744208  0.896421   \n",
       "1  1.161395 -0.496904 -1.185227  1.209717 -0.558291 -0.744208 -1.115547   \n",
       "2 -0.861034 -0.496904  0.843721 -0.826640 -0.558291  1.343710  0.896421   \n",
       "3  1.161395 -0.496904 -1.185227  1.209717 -0.558291 -0.744208  0.896421   \n",
       "4  1.161395 -0.496904 -1.185227  1.209717 -0.558291 -0.744208  0.896421   \n",
       "\n",
       "    toothed  backbone  breathes  venomous      fins      legs      tail  \\\n",
       "0  0.809776   0.46569  0.512348 -0.293294 -0.449868  0.572540 -1.698416   \n",
       "1  0.809776   0.46569  0.512348 -0.293294 -0.449868  0.572540  0.588784   \n",
       "2  0.809776   0.46569 -1.951800 -0.293294  2.222876 -1.404435  0.588784   \n",
       "3  0.809776   0.46569  0.512348 -0.293294 -0.449868  0.572540 -1.698416   \n",
       "4  0.809776   0.46569  0.512348 -0.293294 -0.449868  0.572540  0.588784   \n",
       "\n",
       "   domestic   catsize  \n",
       "0 -0.384353  1.138180  \n",
       "1 -0.384353  1.138180  \n",
       "2 -0.384353 -0.878595  \n",
       "3 -0.384353  1.138180  \n",
       "4 -0.384353  1.138180  "
      ]
     },
     "execution_count": 16,
     "metadata": {},
     "output_type": "execute_result"
    }
   ],
   "source": [
    "from scipy.stats import zscore\n",
    "df1 = df.drop(labels = 'class_type',axis = 1)\n",
    "df1 = df1.apply(zscore)\n",
    "df1.head()"
   ]
  },
  {
   "cell_type": "code",
   "execution_count": null,
   "metadata": {},
   "outputs": [],
   "source": []
  },
  {
   "cell_type": "markdown",
   "metadata": {},
   "source": [
    "### Q7. Find out the linkage matrix"
   ]
  },
  {
   "cell_type": "code",
   "execution_count": 18,
   "metadata": {},
   "outputs": [
    {
     "data": {
      "text/plain": [
       "array([[  0.        ,   3.        ,   0.        ,   2.        ],\n",
       "       [  1.        ,   5.        ,   0.        ,   2.        ],\n",
       "       [  2.        ,   8.        ,   0.        ,   2.        ],\n",
       "       [ 17.        , 102.        ,   0.        ,   3.        ],\n",
       "       [ 22.        , 104.        ,   0.        ,   4.        ],\n",
       "       [ 28.        , 105.        ,   0.        ,   5.        ],\n",
       "       [ 55.        , 106.        ,   0.        ,   6.        ],\n",
       "       [  4.        ,  10.        ,   0.        ,   2.        ],\n",
       "       [  6.        ,  31.        ,   0.        ,   2.        ],\n",
       "       [ 34.        ,  73.        ,   0.        ,   2.        ],\n",
       "       [ 82.        , 110.        ,   0.        ,   3.        ],\n",
       "       [ 12.        , 103.        ,   0.        ,   3.        ],\n",
       "       [ 38.        , 112.        ,   0.        ,   4.        ],\n",
       "       [ 61.        , 113.        ,   0.        ,   5.        ],\n",
       "       [ 18.        ,  60.        ,   0.        ,   2.        ],\n",
       "       [ 92.        , 115.        ,   0.        ,   3.        ],\n",
       "       [ 65.        , 109.        ,   0.        ,   3.        ],\n",
       "       [ 70.        , 117.        ,   0.        ,   4.        ],\n",
       "       [ 44.        , 108.        ,   0.        ,   3.        ],\n",
       "       [ 11.        ,  20.        ,   0.        ,   2.        ],\n",
       "       [ 15.        ,  46.        ,   0.        ,   2.        ],\n",
       "       [ 81.        ,  99.        ,   0.        ,   2.        ],\n",
       "       [ 24.        ,  88.        ,   0.        ,   2.        ],\n",
       "       [ 16.        ,  37.        ,   0.        ,   2.        ],\n",
       "       [ 19.        ,  66.        ,   0.        ,   2.        ],\n",
       "       [ 57.        , 120.        ,   0.        ,   3.        ],\n",
       "       [ 33.        ,  78.        ,   0.        ,   2.        ],\n",
       "       [ 79.        , 127.        ,   0.        ,   3.        ],\n",
       "       [ 27.        ,  93.        ,   0.        ,   2.        ],\n",
       "       [ 45.        , 119.        ,   0.        ,   4.        ],\n",
       "       [ 47.        , 130.        ,   0.        ,   5.        ],\n",
       "       [ 50.        , 131.        ,   0.        ,   6.        ],\n",
       "       [ 64.        , 132.        ,   0.        ,   7.        ],\n",
       "       [ 67.        , 133.        ,   0.        ,   8.        ],\n",
       "       [ 69.        , 134.        ,   0.        ,   9.        ],\n",
       "       [ 98.        , 135.        ,   0.        ,  10.        ],\n",
       "       [ 49.        ,  54.        ,   0.        ,   2.        ],\n",
       "       [ 36.        ,  94.        ,   0.        ,   2.        ],\n",
       "       [ 43.        ,  59.        ,   0.        ,   2.        ],\n",
       "       [ 83.        , 139.        ,   0.        ,   3.        ],\n",
       "       [100.        , 140.        ,   0.        ,   4.        ],\n",
       "       [ 40.        ,  51.        ,   0.        ,   2.        ],\n",
       "       [ 14.        ,  85.        ,   0.49424368,   2.        ],\n",
       "       [121.        , 143.        ,   1.04844918,   4.        ],\n",
       "       [ 84.        , 138.        ,   1.1414069 ,   3.        ],\n",
       "       [ 96.        , 107.        ,   1.29423377,   7.        ],\n",
       "       [ 80.        ,  91.        ,   1.97697474,   2.        ],\n",
       "       [ 23.        ,  95.        ,   2.01196816,   2.        ],\n",
       "       [ 25.        ,  89.        ,   2.01196816,   2.        ],\n",
       "       [ 30.        ,  42.        ,   2.01196816,   2.        ],\n",
       "       [ 56.        ,  71.        ,   2.01196816,   2.        ],\n",
       "       [ 21.        ,  87.        ,   2.01677574,   2.        ],\n",
       "       [  9.        ,  35.        ,   2.28719961,   2.        ],\n",
       "       [ 29.        ,  68.        ,   2.49166397,   2.        ],\n",
       "       [ 74.        ,  75.        ,   2.49166397,   2.        ],\n",
       "       [ 32.        , 101.        ,   2.58846754,   3.        ],\n",
       "       [ 41.        , 151.        ,   2.60240615,   3.        ],\n",
       "       [ 52.        , 147.        ,   2.66746046,   3.        ],\n",
       "       [ 58.        , 157.        ,   2.8092115 ,   4.        ],\n",
       "       [ 48.        , 136.        ,   2.8153481 ,  11.        ],\n",
       "       [ 39.        ,  97.        ,   2.9861276 ,   2.        ],\n",
       "       [ 53.        , 144.        ,   3.07629071,   5.        ],\n",
       "       [137.        , 145.        ,   3.15844899,   5.        ],\n",
       "       [124.        , 148.        ,   3.18728359,   4.        ],\n",
       "       [142.        , 150.        ,   3.19443907,   4.        ],\n",
       "       [125.        , 155.        ,   3.35925999,   4.        ],\n",
       "       [128.        , 152.        ,   3.48649806,   5.        ],\n",
       "       [141.        , 164.        ,   3.62979615,   8.        ],\n",
       "       [  7.        , 111.        ,   3.65724446,   4.        ],\n",
       "       [ 13.        , 122.        ,   3.67333449,   3.        ],\n",
       "       [ 26.        ,  62.        ,   3.67411389,   2.        ],\n",
       "       [118.        , 153.        ,   3.78601105,   6.        ],\n",
       "       [114.        , 116.        ,   3.90546942,   8.        ],\n",
       "       [ 76.        ,  86.        ,   3.91504382,   2.        ],\n",
       "       [154.        , 172.        ,   3.99705311,   8.        ],\n",
       "       [ 90.        , 159.        ,   4.01551071,   5.        ],\n",
       "       [123.        , 165.        ,   4.25693999,   6.        ],\n",
       "       [129.        , 163.        ,   4.40553316,   7.        ],\n",
       "       [149.        , 158.        ,   4.54710487,   5.        ],\n",
       "       [ 63.        , 160.        ,   4.67086589,  12.        ],\n",
       "       [171.        , 174.        ,   5.15338608,   4.        ],\n",
       "       [ 77.        , 181.        ,   5.20676957,   5.        ],\n",
       "       [169.        , 173.        ,   5.2547384 ,  12.        ],\n",
       "       [167.        , 168.        ,   5.30573041,  13.        ],\n",
       "       [156.        , 180.        ,   5.35238749,  15.        ],\n",
       "       [146.        , 178.        ,   5.87345619,  14.        ],\n",
       "       [ 72.        , 161.        ,   5.91185354,   3.        ],\n",
       "       [170.        , 177.        ,   7.06792506,   9.        ],\n",
       "       [126.        , 184.        ,   7.20233532,  16.        ],\n",
       "       [185.        , 186.        ,   7.63918797,  29.        ],\n",
       "       [176.        , 189.        ,   7.76339564,  21.        ],\n",
       "       [187.        , 188.        ,   9.16916202,  12.        ],\n",
       "       [179.        , 182.        ,   9.66791928,  10.        ],\n",
       "       [162.        , 192.        ,  10.30133223,  17.        ],\n",
       "       [166.        , 190.        ,  10.46430336,  33.        ],\n",
       "       [175.        , 195.        ,  11.27437109,  41.        ],\n",
       "       [183.        , 193.        ,  12.75825807,  22.        ],\n",
       "       [191.        , 194.        ,  20.31238613,  38.        ],\n",
       "       [197.        , 198.        ,  21.58921918,  60.        ],\n",
       "       [196.        , 199.        ,  29.61416666, 101.        ]])"
      ]
     },
     "execution_count": 18,
     "metadata": {},
     "output_type": "execute_result"
    }
   ],
   "source": [
    "import scipy.cluster.hierarchy as shc\n",
    "%matplotlib inline\n",
    "import matplotlib.pyplot as plt\n",
    "import numpy as np\n",
    "demo = (shc.linkage(df1.values, method='ward'))\n",
    "demo"
   ]
  },
  {
   "cell_type": "markdown",
   "metadata": {},
   "source": [
    "### Q8. Plot the dendrogram."
   ]
  },
  {
   "cell_type": "code",
   "execution_count": 19,
   "metadata": {},
   "outputs": [
    {
     "data": {
      "image/png": "[encoded data removed]",
      "text/plain": [
       "<Figure size 720x504 with 1 Axes>"
      ]
     },
     "metadata": {
      "needs_background": "light"
     },
     "output_type": "display_data"
    }
   ],
   "source": [
    "plt.figure(figsize=(10,7))\n",
    "plt.title('Dendogram')\n",
    "dend = shc.dendrogram(shc.linkage(df1.values, method='ward'))"
   ]
  },
  {
   "cell_type": "markdown",
   "metadata": {},
   "source": [
    "### Q9. Recreate the dendrogram for the last 4, 7, and 12 merged clusters "
   ]
  },
  {
   "cell_type": "code",
   "execution_count": 20,
   "metadata": {},
   "outputs": [
    {
     "data": {
      "image/png": "[encoded data removed]",
      "text/plain": [
       "<Figure size 720x504 with 1 Axes>"
      ]
     },
     "metadata": {
      "needs_background": "light"
     },
     "output_type": "display_data"
    }
   ],
   "source": [
    "plt.figure(figsize=(10,7))\n",
    "plt.title('Dendogram')\n",
    "dend = shc.dendrogram(shc.linkage(df1.values, method='ward'),truncate_mode='lastp',p = 4)"
   ]
  },
  {
   "cell_type": "code",
   "execution_count": 21,
   "metadata": {},
   "outputs": [
    {
     "data": {
      "image/png": "[encoded data removed]",
      "text/plain": [
       "<Figure size 720x504 with 1 Axes>"
      ]
     },
     "metadata": {
      "needs_background": "light"
     },
     "output_type": "display_data"
    }
   ],
   "source": [
    "plt.figure(figsize=(10,7))\n",
    "plt.title('Dendogram')\n",
    "dend = shc.dendrogram(shc.linkage(df1.values, method='ward'),truncate_mode='lastp',p = 7)"
   ]
  },
  {
   "cell_type": "code",
   "execution_count": 23,
   "metadata": {},
   "outputs": [
    {
     "data": {
      "image/png": "[encoded data removed]",
      "text/plain": [
       "<Figure size 720x504 with 1 Axes>"
      ]
     },
     "metadata": {
      "needs_background": "light"
     },
     "output_type": "display_data"
    }
   ],
   "source": [
    "plt.figure(figsize=(10,7))\n",
    "plt.title('Dendogram')\n",
    "dend = shc.dendrogram(shc.linkage(df1.values, method='ward'),truncate_mode='lastp',p = 12)"
   ]
  },
  {
   "cell_type": "markdown",
   "metadata": {},
   "source": [
    "### Q10. select an optimum number of clusters and predict the cluster label for the scaled_data"
   ]
  },
  {
   "cell_type": "code",
   "execution_count": 24,
   "metadata": {},
   "outputs": [
    {
     "name": "stdout",
     "output_type": "stream",
     "text": [
      "1616.0\n",
      "1177.500566494201\n",
      "927.2668879904176\n",
      "721.2567436158248\n",
      "647.2975038779302\n",
      "583.6045229819006\n",
      "531.7699847536827\n",
      "483.5805529512911\n",
      "453.0063298780624\n",
      "411.5914160771121\n"
     ]
    },
    {
     "data": {
      "image/png": "[encoded data removed]",
      "text/plain": [
       "<Figure size 432x288 with 1 Axes>"
      ]
     },
     "metadata": {
      "needs_background": "light"
     },
     "output_type": "display_data"
    }
   ],
   "source": [
    "#Using K-mean\n",
    "distortion = {}\n",
    "from sklearn.cluster import KMeans\n",
    "for k in range(1,11):\n",
    "    kMeans = KMeans(n_clusters = k)\n",
    "    kMeans.fit(df1)\n",
    "    distortion[k] = kMeans.inertia_\n",
    "    print(distortion[k])\n",
    "sns.lineplot(x = list(distortion.keys()), y = list(distortion.values()))\n",
    "plt.xlabel('Number of Clusters')\n",
    "plt.ylabel('Distortion')\n",
    "plt.show()"
   ]
  },
  {
   "cell_type": "code",
   "execution_count": 25,
   "metadata": {},
   "outputs": [
    {
     "data": {
      "text/plain": [
       "KMeans(algorithm='auto', copy_x=True, init='k-means++', max_iter=300,\n",
       "       n_clusters=6, n_init=10, n_jobs=None, precompute_distances='auto',\n",
       "       random_state=None, tol=0.0001, verbose=0)"
      ]
     },
     "execution_count": 25,
     "metadata": {},
     "output_type": "execute_result"
    }
   ],
   "source": [
    "# K = 4\n",
    "from sklearn.cluster import KMeans\n",
    "km = KMeans(n_clusters=4)\n",
    "km.fit(df1)"
   ]
  },
  {
   "cell_type": "code",
   "execution_count": 26,
   "metadata": {},
   "outputs": [
    {
     "data": {
      "text/plain": [
       "array([4, 4, 2, 4, 4, 4, 1, 2, 2, 1, 4, 0, 2, 5, 5, 5, 0, 4, 2, 2, 0, 0,\n",
       "       4, 0, 5, 3, 3, 4, 4, 1, 5, 1, 4, 0, 2, 1, 4, 0, 2, 5, 5, 0, 5, 0,\n",
       "       4, 4, 5, 4, 4, 4, 4, 5, 3, 5, 4, 4, 0, 0, 0, 0, 2, 2, 3, 4, 4, 1,\n",
       "       2, 4, 1, 4, 1, 0, 5, 2, 4, 4, 2, 5, 0, 0, 3, 5, 2, 0, 4, 5, 2, 0,\n",
       "       5, 3, 3, 3, 2, 4, 4, 0, 4, 5, 4, 5, 0])"
      ]
     },
     "execution_count": 26,
     "metadata": {},
     "output_type": "execute_result"
    }
   ],
   "source": [
    "df2 = km.cluster_centers_\n",
    "labels_df = pd.DataFrame(columns=df1.columns, data=df2)\n",
    "labels_df = pd.DataFrame(columns=['class_label'], data=km.labels_)\n",
    "labels_df\n",
    "data['class_label']=labels_df\n",
    "km.labels_"
   ]
  },
  {
   "cell_type": "code",
   "execution_count": 31,
   "metadata": {},
   "outputs": [
    {
     "data": {
      "text/plain": [
       "KMeans(algorithm='auto', copy_x=True, init='k-means++', max_iter=300,\n",
       "       n_clusters=6, n_init=10, n_jobs=None, precompute_distances='auto',\n",
       "       random_state=None, tol=0.0001, verbose=0)"
      ]
     },
     "execution_count": 31,
     "metadata": {},
     "output_type": "execute_result"
    }
   ],
   "source": [
    "#Using dindogram\n",
    "# K = 6\n",
    "from sklearn.cluster import KMeans\n",
    "km = KMeans(n_clusters=6)\n",
    "km.fit(df1)"
   ]
  },
  {
   "cell_type": "code",
   "execution_count": 32,
   "metadata": {},
   "outputs": [
    {
     "data": {
      "text/plain": [
       "array([4, 4, 2, 4, 4, 4, 0, 2, 2, 0, 4, 1, 2, 3, 3, 3, 1, 4, 2, 2, 1, 1,\n",
       "       4, 1, 3, 5, 5, 4, 4, 0, 3, 0, 4, 1, 2, 0, 4, 1, 2, 3, 3, 1, 3, 1,\n",
       "       4, 4, 3, 4, 4, 4, 4, 3, 5, 3, 4, 4, 1, 1, 1, 1, 2, 2, 5, 4, 4, 0,\n",
       "       2, 4, 0, 4, 0, 1, 5, 2, 4, 4, 5, 3, 1, 1, 5, 3, 2, 1, 4, 3, 2, 1,\n",
       "       3, 5, 1, 5, 2, 4, 4, 1, 4, 3, 4, 3, 1])"
      ]
     },
     "execution_count": 32,
     "metadata": {},
     "output_type": "execute_result"
    }
   ],
   "source": [
    "df2 = km.cluster_centers_\n",
    "labels_df = pd.DataFrame(columns=df1.columns, data=df2)\n",
    "labels_df = pd.DataFrame(columns=['class_label'], data=km.labels_)\n",
    "labels_df\n",
    "data['class_label']=labels_df\n",
    "km.labels_"
   ]
  }
 ],
 "metadata": {
  "kernelspec": {
   "display_name": "Python 3",
   "language": "python",
   "name": "python3"
  },
  "language_info": {
   "codemirror_mode": {
    "name": "ipython",
    "version": 3
   },
   "file_extension": ".py",
   "mimetype": "text/x-python",
   "name": "python",
   "nbconvert_exporter": "python",
   "pygments_lexer": "ipython3",
   "version": "3.7.3"
  }
 },
 "nbformat": 4,
 "nbformat_minor": 2
}
